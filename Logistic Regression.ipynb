{
 "cells": [
  {
   "cell_type": "code",
   "execution_count": 1,
   "id": "5a1dd61a",
   "metadata": {},
   "outputs": [],
   "source": [
    "import os\n",
    "import numpy as np\n",
    "import pandas as pd\n",
    "import matplotlib.pyplot as plt\n",
    "import seaborn as sns\n",
    "%matplotlib inline\n",
    "from sklearn.preprocessing import OneHotEncoder, LabelEncoder\n",
    "from sklearn.model_selection import train_test_split,cross_val_score\n",
    "from sklearn import linear_model\n",
    "from sklearn.linear_model import LogisticRegression\n",
    "from sklearn.datasets import make_regression\n",
    "from sklearn.metrics import accuracy_score,confusion_matrix,classification_report\n",
    "from statsmodels.stats.outliers_influence import variance_inflation_factor"
   ]
  },
  {
   "cell_type": "code",
   "execution_count": 2,
   "id": "cc6457dd",
   "metadata": {},
   "outputs": [
    {
     "data": {
      "text/plain": [
       "'D:\\\\Data Science\\\\Machine Leaning\\\\Assessment\\\\Logistic Regression using Python'"
      ]
     },
     "execution_count": 2,
     "metadata": {},
     "output_type": "execute_result"
    }
   ],
   "source": [
    "os.chdir(\"D:\\\\Data Science\\\\Machine Leaning\\\\Assessment\\\\Logistic Regression using Python\")\n",
    "os.getcwd()"
   ]
  },
  {
   "cell_type": "code",
   "execution_count": 3,
   "id": "cad0f89c",
   "metadata": {},
   "outputs": [],
   "source": [
    "#display all columns in dataframe\n",
    "pd.pandas.set_option('display.max_columns',None)"
   ]
  },
  {
   "cell_type": "code",
   "execution_count": 4,
   "id": "484e7634",
   "metadata": {},
   "outputs": [
    {
     "data": {
      "text/html": [
       "<div>\n",
       "<style scoped>\n",
       "    .dataframe tbody tr th:only-of-type {\n",
       "        vertical-align: middle;\n",
       "    }\n",
       "\n",
       "    .dataframe tbody tr th {\n",
       "        vertical-align: top;\n",
       "    }\n",
       "\n",
       "    .dataframe thead th {\n",
       "        text-align: right;\n",
       "    }\n",
       "</style>\n",
       "<table border=\"1\" class=\"dataframe\">\n",
       "  <thead>\n",
       "    <tr style=\"text-align: right;\">\n",
       "      <th></th>\n",
       "      <th>Gender</th>\n",
       "      <th>NationalITy</th>\n",
       "      <th>PlaceofBirth</th>\n",
       "      <th>StageID</th>\n",
       "      <th>GradeID</th>\n",
       "      <th>SectionID</th>\n",
       "      <th>Topic</th>\n",
       "      <th>Semester</th>\n",
       "      <th>Relation</th>\n",
       "      <th>raisedhands</th>\n",
       "      <th>VisITedResources</th>\n",
       "      <th>AnnouncementsView</th>\n",
       "      <th>Discussion</th>\n",
       "      <th>ParentAnsweringSurvey</th>\n",
       "      <th>ParentschoolSatisfaction</th>\n",
       "      <th>StudentAbsenceDays</th>\n",
       "      <th>Class</th>\n",
       "    </tr>\n",
       "  </thead>\n",
       "  <tbody>\n",
       "    <tr>\n",
       "      <th>0</th>\n",
       "      <td>M</td>\n",
       "      <td>KW</td>\n",
       "      <td>KuwaIT</td>\n",
       "      <td>lowerlevel</td>\n",
       "      <td>G-04</td>\n",
       "      <td>A</td>\n",
       "      <td>IT</td>\n",
       "      <td>F</td>\n",
       "      <td>Father</td>\n",
       "      <td>15</td>\n",
       "      <td>16</td>\n",
       "      <td>2</td>\n",
       "      <td>20</td>\n",
       "      <td>Yes</td>\n",
       "      <td>Good</td>\n",
       "      <td>Under-7</td>\n",
       "      <td>M</td>\n",
       "    </tr>\n",
       "    <tr>\n",
       "      <th>1</th>\n",
       "      <td>M</td>\n",
       "      <td>KW</td>\n",
       "      <td>KuwaIT</td>\n",
       "      <td>lowerlevel</td>\n",
       "      <td>G-04</td>\n",
       "      <td>A</td>\n",
       "      <td>IT</td>\n",
       "      <td>F</td>\n",
       "      <td>Father</td>\n",
       "      <td>20</td>\n",
       "      <td>20</td>\n",
       "      <td>3</td>\n",
       "      <td>25</td>\n",
       "      <td>Yes</td>\n",
       "      <td>Good</td>\n",
       "      <td>Under-7</td>\n",
       "      <td>M</td>\n",
       "    </tr>\n",
       "    <tr>\n",
       "      <th>2</th>\n",
       "      <td>M</td>\n",
       "      <td>KW</td>\n",
       "      <td>KuwaIT</td>\n",
       "      <td>lowerlevel</td>\n",
       "      <td>G-04</td>\n",
       "      <td>A</td>\n",
       "      <td>IT</td>\n",
       "      <td>F</td>\n",
       "      <td>Father</td>\n",
       "      <td>10</td>\n",
       "      <td>7</td>\n",
       "      <td>0</td>\n",
       "      <td>30</td>\n",
       "      <td>No</td>\n",
       "      <td>Bad</td>\n",
       "      <td>Above-7</td>\n",
       "      <td>L</td>\n",
       "    </tr>\n",
       "    <tr>\n",
       "      <th>3</th>\n",
       "      <td>M</td>\n",
       "      <td>KW</td>\n",
       "      <td>KuwaIT</td>\n",
       "      <td>lowerlevel</td>\n",
       "      <td>G-04</td>\n",
       "      <td>A</td>\n",
       "      <td>IT</td>\n",
       "      <td>F</td>\n",
       "      <td>Father</td>\n",
       "      <td>30</td>\n",
       "      <td>25</td>\n",
       "      <td>5</td>\n",
       "      <td>35</td>\n",
       "      <td>No</td>\n",
       "      <td>Bad</td>\n",
       "      <td>Above-7</td>\n",
       "      <td>L</td>\n",
       "    </tr>\n",
       "    <tr>\n",
       "      <th>4</th>\n",
       "      <td>M</td>\n",
       "      <td>KW</td>\n",
       "      <td>KuwaIT</td>\n",
       "      <td>lowerlevel</td>\n",
       "      <td>G-04</td>\n",
       "      <td>A</td>\n",
       "      <td>IT</td>\n",
       "      <td>F</td>\n",
       "      <td>Father</td>\n",
       "      <td>40</td>\n",
       "      <td>50</td>\n",
       "      <td>12</td>\n",
       "      <td>50</td>\n",
       "      <td>No</td>\n",
       "      <td>Bad</td>\n",
       "      <td>Above-7</td>\n",
       "      <td>M</td>\n",
       "    </tr>\n",
       "    <tr>\n",
       "      <th>5</th>\n",
       "      <td>F</td>\n",
       "      <td>KW</td>\n",
       "      <td>KuwaIT</td>\n",
       "      <td>lowerlevel</td>\n",
       "      <td>G-04</td>\n",
       "      <td>A</td>\n",
       "      <td>IT</td>\n",
       "      <td>F</td>\n",
       "      <td>Father</td>\n",
       "      <td>42</td>\n",
       "      <td>30</td>\n",
       "      <td>13</td>\n",
       "      <td>70</td>\n",
       "      <td>Yes</td>\n",
       "      <td>Bad</td>\n",
       "      <td>Above-7</td>\n",
       "      <td>M</td>\n",
       "    </tr>\n",
       "    <tr>\n",
       "      <th>6</th>\n",
       "      <td>M</td>\n",
       "      <td>KW</td>\n",
       "      <td>KuwaIT</td>\n",
       "      <td>MiddleSchool</td>\n",
       "      <td>G-07</td>\n",
       "      <td>A</td>\n",
       "      <td>Math</td>\n",
       "      <td>F</td>\n",
       "      <td>Father</td>\n",
       "      <td>35</td>\n",
       "      <td>12</td>\n",
       "      <td>0</td>\n",
       "      <td>17</td>\n",
       "      <td>No</td>\n",
       "      <td>Bad</td>\n",
       "      <td>Above-7</td>\n",
       "      <td>L</td>\n",
       "    </tr>\n",
       "    <tr>\n",
       "      <th>7</th>\n",
       "      <td>M</td>\n",
       "      <td>KW</td>\n",
       "      <td>KuwaIT</td>\n",
       "      <td>MiddleSchool</td>\n",
       "      <td>G-07</td>\n",
       "      <td>A</td>\n",
       "      <td>Math</td>\n",
       "      <td>F</td>\n",
       "      <td>Father</td>\n",
       "      <td>50</td>\n",
       "      <td>10</td>\n",
       "      <td>15</td>\n",
       "      <td>22</td>\n",
       "      <td>Yes</td>\n",
       "      <td>Good</td>\n",
       "      <td>Under-7</td>\n",
       "      <td>M</td>\n",
       "    </tr>\n",
       "    <tr>\n",
       "      <th>8</th>\n",
       "      <td>F</td>\n",
       "      <td>KW</td>\n",
       "      <td>KuwaIT</td>\n",
       "      <td>MiddleSchool</td>\n",
       "      <td>G-07</td>\n",
       "      <td>A</td>\n",
       "      <td>Math</td>\n",
       "      <td>F</td>\n",
       "      <td>Father</td>\n",
       "      <td>12</td>\n",
       "      <td>21</td>\n",
       "      <td>16</td>\n",
       "      <td>50</td>\n",
       "      <td>Yes</td>\n",
       "      <td>Good</td>\n",
       "      <td>Under-7</td>\n",
       "      <td>M</td>\n",
       "    </tr>\n",
       "    <tr>\n",
       "      <th>9</th>\n",
       "      <td>F</td>\n",
       "      <td>KW</td>\n",
       "      <td>KuwaIT</td>\n",
       "      <td>MiddleSchool</td>\n",
       "      <td>G-07</td>\n",
       "      <td>B</td>\n",
       "      <td>IT</td>\n",
       "      <td>F</td>\n",
       "      <td>Father</td>\n",
       "      <td>70</td>\n",
       "      <td>80</td>\n",
       "      <td>25</td>\n",
       "      <td>70</td>\n",
       "      <td>Yes</td>\n",
       "      <td>Good</td>\n",
       "      <td>Under-7</td>\n",
       "      <td>M</td>\n",
       "    </tr>\n",
       "  </tbody>\n",
       "</table>\n",
       "</div>"
      ],
      "text/plain": [
       "  Gender NationalITy PlaceofBirth       StageID GradeID SectionID Topic  \\\n",
       "0      M          KW       KuwaIT    lowerlevel    G-04         A    IT   \n",
       "1      M          KW       KuwaIT    lowerlevel    G-04         A    IT   \n",
       "2      M          KW       KuwaIT    lowerlevel    G-04         A    IT   \n",
       "3      M          KW       KuwaIT    lowerlevel    G-04         A    IT   \n",
       "4      M          KW       KuwaIT    lowerlevel    G-04         A    IT   \n",
       "5      F          KW       KuwaIT    lowerlevel    G-04         A    IT   \n",
       "6      M          KW       KuwaIT  MiddleSchool    G-07         A  Math   \n",
       "7      M          KW       KuwaIT  MiddleSchool    G-07         A  Math   \n",
       "8      F          KW       KuwaIT  MiddleSchool    G-07         A  Math   \n",
       "9      F          KW       KuwaIT  MiddleSchool    G-07         B    IT   \n",
       "\n",
       "  Semester Relation  raisedhands  VisITedResources  AnnouncementsView  \\\n",
       "0        F   Father           15                16                  2   \n",
       "1        F   Father           20                20                  3   \n",
       "2        F   Father           10                 7                  0   \n",
       "3        F   Father           30                25                  5   \n",
       "4        F   Father           40                50                 12   \n",
       "5        F   Father           42                30                 13   \n",
       "6        F   Father           35                12                  0   \n",
       "7        F   Father           50                10                 15   \n",
       "8        F   Father           12                21                 16   \n",
       "9        F   Father           70                80                 25   \n",
       "\n",
       "   Discussion ParentAnsweringSurvey ParentschoolSatisfaction  \\\n",
       "0          20                   Yes                     Good   \n",
       "1          25                   Yes                     Good   \n",
       "2          30                    No                      Bad   \n",
       "3          35                    No                      Bad   \n",
       "4          50                    No                      Bad   \n",
       "5          70                   Yes                      Bad   \n",
       "6          17                    No                      Bad   \n",
       "7          22                   Yes                     Good   \n",
       "8          50                   Yes                     Good   \n",
       "9          70                   Yes                     Good   \n",
       "\n",
       "  StudentAbsenceDays Class  \n",
       "0            Under-7     M  \n",
       "1            Under-7     M  \n",
       "2            Above-7     L  \n",
       "3            Above-7     L  \n",
       "4            Above-7     M  \n",
       "5            Above-7     M  \n",
       "6            Above-7     L  \n",
       "7            Under-7     M  \n",
       "8            Under-7     M  \n",
       "9            Under-7     M  "
      ]
     },
     "execution_count": 4,
     "metadata": {},
     "output_type": "execute_result"
    }
   ],
   "source": [
    "#read the file\n",
    "df=pd.read_csv(\"xAPI-Edu-Data.csv\")\n",
    "df.head(10)"
   ]
  },
  {
   "cell_type": "markdown",
   "id": "33610522",
   "metadata": {},
   "source": [
    "#### Getting basic information about the dataset:"
   ]
  },
  {
   "cell_type": "code",
   "execution_count": 5,
   "id": "36186504",
   "metadata": {},
   "outputs": [
    {
     "name": "stdout",
     "output_type": "stream",
     "text": [
      "<class 'pandas.core.frame.DataFrame'>\n",
      "RangeIndex: 480 entries, 0 to 479\n",
      "Data columns (total 17 columns):\n",
      " #   Column                    Non-Null Count  Dtype \n",
      "---  ------                    --------------  ----- \n",
      " 0   Gender                    480 non-null    object\n",
      " 1   NationalITy               480 non-null    object\n",
      " 2   PlaceofBirth              480 non-null    object\n",
      " 3   StageID                   480 non-null    object\n",
      " 4   GradeID                   480 non-null    object\n",
      " 5   SectionID                 480 non-null    object\n",
      " 6   Topic                     480 non-null    object\n",
      " 7   Semester                  480 non-null    object\n",
      " 8   Relation                  480 non-null    object\n",
      " 9   raisedhands               480 non-null    int64 \n",
      " 10  VisITedResources          480 non-null    int64 \n",
      " 11  AnnouncementsView         480 non-null    int64 \n",
      " 12  Discussion                480 non-null    int64 \n",
      " 13  ParentAnsweringSurvey     480 non-null    object\n",
      " 14  ParentschoolSatisfaction  480 non-null    object\n",
      " 15  StudentAbsenceDays        480 non-null    object\n",
      " 16  Class                     480 non-null    object\n",
      "dtypes: int64(4), object(13)\n",
      "memory usage: 63.9+ KB\n"
     ]
    }
   ],
   "source": [
    "df.info()"
   ]
  },
  {
   "cell_type": "code",
   "execution_count": 6,
   "id": "3afb2d62",
   "metadata": {},
   "outputs": [
    {
     "name": "stdout",
     "output_type": "stream",
     "text": [
      "Number of rows: 480\n",
      "Number of columns: 17\n",
      "Shape: (480, 17)\n"
     ]
    }
   ],
   "source": [
    "print(\"Number of rows:\",df.shape[0])\n",
    "print(\"Number of columns:\",df.shape[1])\n",
    "print(\"Shape:\",df.shape)"
   ]
  },
  {
   "cell_type": "code",
   "execution_count": 7,
   "id": "ea8106f0",
   "metadata": {},
   "outputs": [
    {
     "data": {
      "text/plain": [
       "Index(['Gender', 'NationalITy', 'PlaceofBirth', 'StageID', 'GradeID',\n",
       "       'SectionID', 'Topic', 'Semester', 'Relation', 'raisedhands',\n",
       "       'VisITedResources', 'AnnouncementsView', 'Discussion',\n",
       "       'ParentAnsweringSurvey', 'ParentschoolSatisfaction',\n",
       "       'StudentAbsenceDays', 'Class'],\n",
       "      dtype='object')"
      ]
     },
     "execution_count": 7,
     "metadata": {},
     "output_type": "execute_result"
    }
   ],
   "source": [
    "df.columns"
   ]
  },
  {
   "cell_type": "code",
   "execution_count": 8,
   "id": "cc126470",
   "metadata": {},
   "outputs": [
    {
     "data": {
      "text/html": [
       "<div>\n",
       "<style scoped>\n",
       "    .dataframe tbody tr th:only-of-type {\n",
       "        vertical-align: middle;\n",
       "    }\n",
       "\n",
       "    .dataframe tbody tr th {\n",
       "        vertical-align: top;\n",
       "    }\n",
       "\n",
       "    .dataframe thead th {\n",
       "        text-align: right;\n",
       "    }\n",
       "</style>\n",
       "<table border=\"1\" class=\"dataframe\">\n",
       "  <thead>\n",
       "    <tr style=\"text-align: right;\">\n",
       "      <th></th>\n",
       "      <th>raisedhands</th>\n",
       "      <th>VisITedResources</th>\n",
       "      <th>AnnouncementsView</th>\n",
       "      <th>Discussion</th>\n",
       "    </tr>\n",
       "  </thead>\n",
       "  <tbody>\n",
       "    <tr>\n",
       "      <th>count</th>\n",
       "      <td>480.000000</td>\n",
       "      <td>480.000000</td>\n",
       "      <td>480.000000</td>\n",
       "      <td>480.000000</td>\n",
       "    </tr>\n",
       "    <tr>\n",
       "      <th>mean</th>\n",
       "      <td>46.775000</td>\n",
       "      <td>54.797917</td>\n",
       "      <td>37.918750</td>\n",
       "      <td>43.283333</td>\n",
       "    </tr>\n",
       "    <tr>\n",
       "      <th>std</th>\n",
       "      <td>30.779223</td>\n",
       "      <td>33.080007</td>\n",
       "      <td>26.611244</td>\n",
       "      <td>27.637735</td>\n",
       "    </tr>\n",
       "    <tr>\n",
       "      <th>min</th>\n",
       "      <td>0.000000</td>\n",
       "      <td>0.000000</td>\n",
       "      <td>0.000000</td>\n",
       "      <td>1.000000</td>\n",
       "    </tr>\n",
       "    <tr>\n",
       "      <th>25%</th>\n",
       "      <td>15.750000</td>\n",
       "      <td>20.000000</td>\n",
       "      <td>14.000000</td>\n",
       "      <td>20.000000</td>\n",
       "    </tr>\n",
       "    <tr>\n",
       "      <th>50%</th>\n",
       "      <td>50.000000</td>\n",
       "      <td>65.000000</td>\n",
       "      <td>33.000000</td>\n",
       "      <td>39.000000</td>\n",
       "    </tr>\n",
       "    <tr>\n",
       "      <th>75%</th>\n",
       "      <td>75.000000</td>\n",
       "      <td>84.000000</td>\n",
       "      <td>58.000000</td>\n",
       "      <td>70.000000</td>\n",
       "    </tr>\n",
       "    <tr>\n",
       "      <th>max</th>\n",
       "      <td>100.000000</td>\n",
       "      <td>99.000000</td>\n",
       "      <td>98.000000</td>\n",
       "      <td>99.000000</td>\n",
       "    </tr>\n",
       "  </tbody>\n",
       "</table>\n",
       "</div>"
      ],
      "text/plain": [
       "       raisedhands  VisITedResources  AnnouncementsView  Discussion\n",
       "count   480.000000        480.000000         480.000000  480.000000\n",
       "mean     46.775000         54.797917          37.918750   43.283333\n",
       "std      30.779223         33.080007          26.611244   27.637735\n",
       "min       0.000000          0.000000           0.000000    1.000000\n",
       "25%      15.750000         20.000000          14.000000   20.000000\n",
       "50%      50.000000         65.000000          33.000000   39.000000\n",
       "75%      75.000000         84.000000          58.000000   70.000000\n",
       "max     100.000000         99.000000          98.000000   99.000000"
      ]
     },
     "execution_count": 8,
     "metadata": {},
     "output_type": "execute_result"
    }
   ],
   "source": [
    "df.describe()"
   ]
  },
  {
   "cell_type": "markdown",
   "id": "935be30b",
   "metadata": {},
   "source": [
    "#### Seperating the numerical and categorical variables:"
   ]
  },
  {
   "cell_type": "code",
   "execution_count": 9,
   "id": "af0637c1",
   "metadata": {},
   "outputs": [
    {
     "name": "stdout",
     "output_type": "stream",
     "text": [
      "Number of numerical variables: 4\n",
      "Numerical features are:\n"
     ]
    },
    {
     "data": {
      "text/html": [
       "<div>\n",
       "<style scoped>\n",
       "    .dataframe tbody tr th:only-of-type {\n",
       "        vertical-align: middle;\n",
       "    }\n",
       "\n",
       "    .dataframe tbody tr th {\n",
       "        vertical-align: top;\n",
       "    }\n",
       "\n",
       "    .dataframe thead th {\n",
       "        text-align: right;\n",
       "    }\n",
       "</style>\n",
       "<table border=\"1\" class=\"dataframe\">\n",
       "  <thead>\n",
       "    <tr style=\"text-align: right;\">\n",
       "      <th></th>\n",
       "      <th>raisedhands</th>\n",
       "      <th>VisITedResources</th>\n",
       "      <th>AnnouncementsView</th>\n",
       "      <th>Discussion</th>\n",
       "    </tr>\n",
       "  </thead>\n",
       "  <tbody>\n",
       "    <tr>\n",
       "      <th>0</th>\n",
       "      <td>15</td>\n",
       "      <td>16</td>\n",
       "      <td>2</td>\n",
       "      <td>20</td>\n",
       "    </tr>\n",
       "    <tr>\n",
       "      <th>1</th>\n",
       "      <td>20</td>\n",
       "      <td>20</td>\n",
       "      <td>3</td>\n",
       "      <td>25</td>\n",
       "    </tr>\n",
       "    <tr>\n",
       "      <th>2</th>\n",
       "      <td>10</td>\n",
       "      <td>7</td>\n",
       "      <td>0</td>\n",
       "      <td>30</td>\n",
       "    </tr>\n",
       "    <tr>\n",
       "      <th>3</th>\n",
       "      <td>30</td>\n",
       "      <td>25</td>\n",
       "      <td>5</td>\n",
       "      <td>35</td>\n",
       "    </tr>\n",
       "    <tr>\n",
       "      <th>4</th>\n",
       "      <td>40</td>\n",
       "      <td>50</td>\n",
       "      <td>12</td>\n",
       "      <td>50</td>\n",
       "    </tr>\n",
       "  </tbody>\n",
       "</table>\n",
       "</div>"
      ],
      "text/plain": [
       "   raisedhands  VisITedResources  AnnouncementsView  Discussion\n",
       "0           15                16                  2          20\n",
       "1           20                20                  3          25\n",
       "2           10                 7                  0          30\n",
       "3           30                25                  5          35\n",
       "4           40                50                 12          50"
      ]
     },
     "execution_count": 9,
     "metadata": {},
     "output_type": "execute_result"
    }
   ],
   "source": [
    "#numerical features in the dataset including both independent and dependent\n",
    "\n",
    "# list of numerical variables\n",
    "numerical_features = [feature for feature in df.columns if df[feature].dtypes != 'O']\n",
    "print('Number of numerical variables:', len(numerical_features))\n",
    "\n",
    "# visualise the numerical variables\n",
    "print(\"Numerical features are:\")\n",
    "df[numerical_features].head()"
   ]
  },
  {
   "cell_type": "code",
   "execution_count": 10,
   "id": "f713ec9e",
   "metadata": {},
   "outputs": [
    {
     "name": "stdout",
     "output_type": "stream",
     "text": [
      "The Categorical feature is Gender and number of categories in each species are: 2\n",
      "M    305\n",
      "F    175\n",
      "Name: Gender, dtype: int64\n",
      "The Categorical feature is NationalITy and number of categories in each species are: 14\n",
      "KW             179\n",
      "Jordan         172\n",
      "Palestine       28\n",
      "Iraq            22\n",
      "lebanon         17\n",
      "Tunis           12\n",
      "SaudiArabia     11\n",
      "Egypt            9\n",
      "Syria            7\n",
      "Lybia            6\n",
      "USA              6\n",
      "Iran             6\n",
      "Morocco          4\n",
      "venzuela         1\n",
      "Name: NationalITy, dtype: int64\n",
      "The Categorical feature is PlaceofBirth and number of categories in each species are: 14\n",
      "KuwaIT         180\n",
      "Jordan         176\n",
      "Iraq            22\n",
      "lebanon         19\n",
      "USA             16\n",
      "SaudiArabia     16\n",
      "Palestine       10\n",
      "Egypt            9\n",
      "Tunis            9\n",
      "Lybia            6\n",
      "Syria            6\n",
      "Iran             6\n",
      "Morocco          4\n",
      "venzuela         1\n",
      "Name: PlaceofBirth, dtype: int64\n",
      "The Categorical feature is StageID and number of categories in each species are: 3\n",
      "MiddleSchool    248\n",
      "lowerlevel      199\n",
      "HighSchool       33\n",
      "Name: StageID, dtype: int64\n",
      "The Categorical feature is GradeID and number of categories in each species are: 10\n",
      "G-02    147\n",
      "G-08    116\n",
      "G-07    101\n",
      "G-04     48\n",
      "G-06     32\n",
      "G-11     13\n",
      "G-12     11\n",
      "G-09      5\n",
      "G-10      4\n",
      "G-05      3\n",
      "Name: GradeID, dtype: int64\n",
      "The Categorical feature is SectionID and number of categories in each species are: 3\n",
      "A    283\n",
      "B    167\n",
      "C     30\n",
      "Name: SectionID, dtype: int64\n",
      "The Categorical feature is Topic and number of categories in each species are: 12\n",
      "IT           95\n",
      "French       65\n",
      "Arabic       59\n",
      "Science      51\n",
      "English      45\n",
      "Biology      30\n",
      "Spanish      25\n",
      "Chemistry    24\n",
      "Geology      24\n",
      "Quran        22\n",
      "Math         21\n",
      "History      19\n",
      "Name: Topic, dtype: int64\n",
      "The Categorical feature is Semester and number of categories in each species are: 2\n",
      "F    245\n",
      "S    235\n",
      "Name: Semester, dtype: int64\n",
      "The Categorical feature is Relation and number of categories in each species are: 2\n",
      "Father    283\n",
      "Mum       197\n",
      "Name: Relation, dtype: int64\n",
      "The Categorical feature is ParentAnsweringSurvey and number of categories in each species are: 2\n",
      "Yes    270\n",
      "No     210\n",
      "Name: ParentAnsweringSurvey, dtype: int64\n",
      "The Categorical feature is ParentschoolSatisfaction and number of categories in each species are: 2\n",
      "Good    292\n",
      "Bad     188\n",
      "Name: ParentschoolSatisfaction, dtype: int64\n",
      "The Categorical feature is StudentAbsenceDays and number of categories in each species are: 2\n",
      "Under-7    289\n",
      "Above-7    191\n",
      "Name: StudentAbsenceDays, dtype: int64\n",
      "The Categorical feature is Class and number of categories in each species are: 3\n",
      "M    211\n",
      "H    142\n",
      "L    127\n",
      "Name: Class, dtype: int64\n"
     ]
    }
   ],
   "source": [
    "#categorical features in the data set\n",
    "catergorical_features=[feature for feature in df.columns if df[feature].dtypes=='O']\n",
    "\n",
    "for feature in catergorical_features:\n",
    "    print('The Categorical feature is',feature,\"and number of categories in each species are:\",len(df[feature].unique()))\n",
    "    print(df[feature].value_counts())"
   ]
  },
  {
   "cell_type": "markdown",
   "id": "11899578",
   "metadata": {},
   "source": [
    "#### Finding number and percentage of missing values:"
   ]
  },
  {
   "cell_type": "code",
   "execution_count": 11,
   "id": "c2147219",
   "metadata": {},
   "outputs": [
    {
     "data": {
      "text/plain": [
       "Gender                      0\n",
       "NationalITy                 0\n",
       "PlaceofBirth                0\n",
       "StageID                     0\n",
       "GradeID                     0\n",
       "SectionID                   0\n",
       "Topic                       0\n",
       "Semester                    0\n",
       "Relation                    0\n",
       "raisedhands                 0\n",
       "VisITedResources            0\n",
       "AnnouncementsView           0\n",
       "Discussion                  0\n",
       "ParentAnsweringSurvey       0\n",
       "ParentschoolSatisfaction    0\n",
       "StudentAbsenceDays          0\n",
       "Class                       0\n",
       "dtype: int64"
      ]
     },
     "execution_count": 11,
     "metadata": {},
     "output_type": "execute_result"
    }
   ],
   "source": [
    "df.isnull().sum()"
   ]
  },
  {
   "cell_type": "markdown",
   "id": "cbc35f82",
   "metadata": {},
   "source": [
    "There are no missing values."
   ]
  },
  {
   "cell_type": "markdown",
   "id": "9a4ece61",
   "metadata": {},
   "source": [
    "#### Type casting:"
   ]
  },
  {
   "cell_type": "code",
   "execution_count": 12,
   "id": "e30de5d2",
   "metadata": {},
   "outputs": [],
   "source": [
    "df1=df.copy()\n",
    "df2=df.copy()"
   ]
  },
  {
   "cell_type": "code",
   "execution_count": 13,
   "id": "975ee73e",
   "metadata": {},
   "outputs": [
    {
     "name": "stdout",
     "output_type": "stream",
     "text": [
      "<class 'pandas.core.frame.DataFrame'>\n",
      "RangeIndex: 480 entries, 0 to 479\n",
      "Data columns (total 17 columns):\n",
      " #   Column                    Non-Null Count  Dtype   \n",
      "---  ------                    --------------  -----   \n",
      " 0   Gender                    480 non-null    category\n",
      " 1   NationalITy               480 non-null    category\n",
      " 2   PlaceofBirth              480 non-null    category\n",
      " 3   StageID                   480 non-null    category\n",
      " 4   GradeID                   480 non-null    category\n",
      " 5   SectionID                 480 non-null    category\n",
      " 6   Topic                     480 non-null    category\n",
      " 7   Semester                  480 non-null    category\n",
      " 8   Relation                  480 non-null    category\n",
      " 9   raisedhands               480 non-null    int64   \n",
      " 10  VisITedResources          480 non-null    int64   \n",
      " 11  AnnouncementsView         480 non-null    int64   \n",
      " 12  Discussion                480 non-null    int64   \n",
      " 13  ParentAnsweringSurvey     480 non-null    category\n",
      " 14  ParentschoolSatisfaction  480 non-null    category\n",
      " 15  StudentAbsenceDays        480 non-null    category\n",
      " 16  Class                     480 non-null    category\n",
      "dtypes: category(13), int64(4)\n",
      "memory usage: 24.4 KB\n"
     ]
    }
   ],
   "source": [
    "for feature in ['Gender', 'NationalITy', 'PlaceofBirth', 'StageID', 'GradeID',\n",
    "               'SectionID', 'Topic', 'Semester', 'Relation','ParentAnsweringSurvey', \n",
    "                'ParentschoolSatisfaction', 'StudentAbsenceDays', 'Class']:\n",
    "    df1[feature]=df1[feature].astype('category')\n",
    "df1.info()"
   ]
  },
  {
   "cell_type": "markdown",
   "id": "e1896e69",
   "metadata": {},
   "source": [
    "### Analysis:"
   ]
  },
  {
   "cell_type": "markdown",
   "id": "c0d0fb60",
   "metadata": {},
   "source": [
    "#### Correlation of numerical independent features:"
   ]
  },
  {
   "cell_type": "code",
   "execution_count": 14,
   "id": "420b0e42",
   "metadata": {},
   "outputs": [
    {
     "data": {
      "text/html": [
       "<div>\n",
       "<style scoped>\n",
       "    .dataframe tbody tr th:only-of-type {\n",
       "        vertical-align: middle;\n",
       "    }\n",
       "\n",
       "    .dataframe tbody tr th {\n",
       "        vertical-align: top;\n",
       "    }\n",
       "\n",
       "    .dataframe thead th {\n",
       "        text-align: right;\n",
       "    }\n",
       "</style>\n",
       "<table border=\"1\" class=\"dataframe\">\n",
       "  <thead>\n",
       "    <tr style=\"text-align: right;\">\n",
       "      <th></th>\n",
       "      <th>raisedhands</th>\n",
       "      <th>VisITedResources</th>\n",
       "      <th>AnnouncementsView</th>\n",
       "      <th>Discussion</th>\n",
       "    </tr>\n",
       "  </thead>\n",
       "  <tbody>\n",
       "    <tr>\n",
       "      <th>raisedhands</th>\n",
       "      <td>1.000000</td>\n",
       "      <td>0.691572</td>\n",
       "      <td>0.643918</td>\n",
       "      <td>0.339386</td>\n",
       "    </tr>\n",
       "    <tr>\n",
       "      <th>VisITedResources</th>\n",
       "      <td>0.691572</td>\n",
       "      <td>1.000000</td>\n",
       "      <td>0.594500</td>\n",
       "      <td>0.243292</td>\n",
       "    </tr>\n",
       "    <tr>\n",
       "      <th>AnnouncementsView</th>\n",
       "      <td>0.643918</td>\n",
       "      <td>0.594500</td>\n",
       "      <td>1.000000</td>\n",
       "      <td>0.417290</td>\n",
       "    </tr>\n",
       "    <tr>\n",
       "      <th>Discussion</th>\n",
       "      <td>0.339386</td>\n",
       "      <td>0.243292</td>\n",
       "      <td>0.417290</td>\n",
       "      <td>1.000000</td>\n",
       "    </tr>\n",
       "  </tbody>\n",
       "</table>\n",
       "</div>"
      ],
      "text/plain": [
       "                   raisedhands  VisITedResources  AnnouncementsView  \\\n",
       "raisedhands           1.000000          0.691572           0.643918   \n",
       "VisITedResources      0.691572          1.000000           0.594500   \n",
       "AnnouncementsView     0.643918          0.594500           1.000000   \n",
       "Discussion            0.339386          0.243292           0.417290   \n",
       "\n",
       "                   Discussion  \n",
       "raisedhands          0.339386  \n",
       "VisITedResources     0.243292  \n",
       "AnnouncementsView    0.417290  \n",
       "Discussion           1.000000  "
      ]
     },
     "execution_count": 14,
     "metadata": {},
     "output_type": "execute_result"
    }
   ],
   "source": [
    "df1[numerical_features].corr()"
   ]
  },
  {
   "cell_type": "code",
   "execution_count": 15,
   "id": "903a6888",
   "metadata": {},
   "outputs": [
    {
     "data": {
      "image/png": "[encoded data removed]",
      "text/plain": [
       "<Figure size 432x288 with 2 Axes>"
      ]
     },
     "metadata": {
      "needs_background": "light"
     },
     "output_type": "display_data"
    }
   ],
   "source": [
    "sns.heatmap(data=df1[numerical_features].corr(),annot=True,cmap='viridis')\n",
    "plt.show()"
   ]
  },
  {
   "cell_type": "markdown",
   "id": "98066b40",
   "metadata": {},
   "source": [
    "Raisedhands has most correlation with visitedresources and least with discussion. Discussion has less correlation with other values."
   ]
  },
  {
   "cell_type": "markdown",
   "id": "6acd565e",
   "metadata": {},
   "source": [
    "#### Univariate analysis on numerical independent features:"
   ]
  },
  {
   "cell_type": "code",
   "execution_count": 16,
   "id": "8544d289",
   "metadata": {},
   "outputs": [
    {
     "data": {
      "image/png": "[encoded data removed]",
      "text/plain": [
       "<Figure size 432x288 with 1 Axes>"
      ]
     },
     "metadata": {
      "needs_background": "light"
     },
     "output_type": "display_data"
    },
    {
     "data": {
      "image/png": "[encoded data removed]",
      "text/plain": [
       "<Figure size 432x288 with 1 Axes>"
      ]
     },
     "metadata": {
      "needs_background": "light"
     },
     "output_type": "display_data"
    },
    {
     "data": {
      "image/png": "[encoded data removed]",
      "text/plain": [
       "<Figure size 432x288 with 1 Axes>"
      ]
     },
     "metadata": {
      "needs_background": "light"
     },
     "output_type": "display_data"
    },
    {
     "data": {
      "image/png": "[encoded data removed]",
      "text/plain": [
       "<Figure size 432x288 with 1 Axes>"
      ]
     },
     "metadata": {
      "needs_background": "light"
     },
     "output_type": "display_data"
    }
   ],
   "source": [
    "for feature in numerical_features:\n",
    "    sns.kdeplot(df[feature])\n",
    "    plt.show()"
   ]
  },
  {
   "cell_type": "markdown",
   "id": "a06f5d6e",
   "metadata": {},
   "source": [
    "None of these plots are unimodal and does not follow normal distribution."
   ]
  },
  {
   "cell_type": "code",
   "execution_count": 17,
   "id": "2379e227",
   "metadata": {},
   "outputs": [
    {
     "data": {
      "image/png": "[encoded data removed]",
      "text/plain": [
       "<Figure size 432x288 with 1 Axes>"
      ]
     },
     "metadata": {
      "needs_background": "light"
     },
     "output_type": "display_data"
    },
    {
     "data": {
      "image/png": "[encoded data removed]",
      "text/plain": [
       "<Figure size 432x288 with 1 Axes>"
      ]
     },
     "metadata": {
      "needs_background": "light"
     },
     "output_type": "display_data"
    },
    {
     "data": {
      "image/png": "[encoded data removed]",
      "text/plain": [
       "<Figure size 432x288 with 1 Axes>"
      ]
     },
     "metadata": {
      "needs_background": "light"
     },
     "output_type": "display_data"
    },
    {
     "data": {
      "image/png": "[encoded data removed]",
      "text/plain": [
       "<Figure size 432x288 with 1 Axes>"
      ]
     },
     "metadata": {
      "needs_background": "light"
     },
     "output_type": "display_data"
    }
   ],
   "source": [
    "for feature in numerical_features:\n",
    "    sns.boxplot(data=df,x=df[feature])\n",
    "    plt.show()"
   ]
  },
  {
   "cell_type": "markdown",
   "id": "600bcb1b",
   "metadata": {},
   "source": [
    "None of the features have any outlier."
   ]
  },
  {
   "cell_type": "markdown",
   "id": "12e5be07",
   "metadata": {},
   "source": [
    "### Question 1: Visualize just the categorical features individually to see what options are included and how each option fares when it comes to count(how many times it appears) and see what can be deduce from that?"
   ]
  },
  {
   "cell_type": "code",
   "execution_count": 18,
   "id": "bb09efba",
   "metadata": {},
   "outputs": [
    {
     "name": "stdout",
     "output_type": "stream",
     "text": [
      "Gender :\n",
      " M    305\n",
      "F    175\n",
      "Name: Gender, dtype: int64\n",
      "______________________________________________________________________________________________________________\n",
      "NationalITy :\n",
      " KW             179\n",
      "Jordan         172\n",
      "Palestine       28\n",
      "Iraq            22\n",
      "lebanon         17\n",
      "Tunis           12\n",
      "SaudiArabia     11\n",
      "Egypt            9\n",
      "Syria            7\n",
      "Iran             6\n",
      "Lybia            6\n",
      "USA              6\n",
      "Morocco          4\n",
      "venzuela         1\n",
      "Name: NationalITy, dtype: int64\n",
      "______________________________________________________________________________________________________________\n",
      "PlaceofBirth :\n",
      " KuwaIT         180\n",
      "Jordan         176\n",
      "Iraq            22\n",
      "lebanon         19\n",
      "SaudiArabia     16\n",
      "USA             16\n",
      "Palestine       10\n",
      "Egypt            9\n",
      "Tunis            9\n",
      "Iran             6\n",
      "Lybia            6\n",
      "Syria            6\n",
      "Morocco          4\n",
      "venzuela         1\n",
      "Name: PlaceofBirth, dtype: int64\n",
      "______________________________________________________________________________________________________________\n",
      "StageID :\n",
      " MiddleSchool    248\n",
      "lowerlevel      199\n",
      "HighSchool       33\n",
      "Name: StageID, dtype: int64\n",
      "______________________________________________________________________________________________________________\n",
      "GradeID :\n",
      " G-02    147\n",
      "G-08    116\n",
      "G-07    101\n",
      "G-04     48\n",
      "G-06     32\n",
      "G-11     13\n",
      "G-12     11\n",
      "G-09      5\n",
      "G-10      4\n",
      "G-05      3\n",
      "Name: GradeID, dtype: int64\n",
      "______________________________________________________________________________________________________________\n",
      "SectionID :\n",
      " A    283\n",
      "B    167\n",
      "C     30\n",
      "Name: SectionID, dtype: int64\n",
      "______________________________________________________________________________________________________________\n",
      "Topic :\n",
      " IT           95\n",
      "French       65\n",
      "Arabic       59\n",
      "Science      51\n",
      "English      45\n",
      "Biology      30\n",
      "Spanish      25\n",
      "Chemistry    24\n",
      "Geology      24\n",
      "Quran        22\n",
      "Math         21\n",
      "History      19\n",
      "Name: Topic, dtype: int64\n",
      "______________________________________________________________________________________________________________\n",
      "Semester :\n",
      " F    245\n",
      "S    235\n",
      "Name: Semester, dtype: int64\n",
      "______________________________________________________________________________________________________________\n",
      "Relation :\n",
      " Father    283\n",
      "Mum       197\n",
      "Name: Relation, dtype: int64\n",
      "______________________________________________________________________________________________________________\n",
      "ParentAnsweringSurvey :\n",
      " Yes    270\n",
      "No     210\n",
      "Name: ParentAnsweringSurvey, dtype: int64\n",
      "______________________________________________________________________________________________________________\n",
      "ParentschoolSatisfaction :\n",
      " Good    292\n",
      "Bad     188\n",
      "Name: ParentschoolSatisfaction, dtype: int64\n",
      "______________________________________________________________________________________________________________\n",
      "StudentAbsenceDays :\n",
      " Under-7    289\n",
      "Above-7    191\n",
      "Name: StudentAbsenceDays, dtype: int64\n",
      "______________________________________________________________________________________________________________\n",
      "Class :\n",
      " M    211\n",
      "H    142\n",
      "L    127\n",
      "Name: Class, dtype: int64\n",
      "______________________________________________________________________________________________________________\n"
     ]
    }
   ],
   "source": [
    "for feature in df1.columns:\n",
    "    if feature not in ['raisedhands','VisITedResources', 'AnnouncementsView', 'Discussion']:\n",
    "        print(feature,\":\\n\",df1[feature].value_counts())\n",
    "        print('_'*110)"
   ]
  },
  {
   "cell_type": "code",
   "execution_count": 19,
   "id": "9071a476",
   "metadata": {},
   "outputs": [
    {
     "data": {
      "image/png": "[encoded data removed]",
      "text/plain": [
       "<Figure size 720x360 with 1 Axes>"
      ]
     },
     "metadata": {
      "needs_background": "light"
     },
     "output_type": "display_data"
    },
    {
     "data": {
      "image/png": "[encoded data removed]",
      "text/plain": [
       "<Figure size 720x360 with 1 Axes>"
      ]
     },
     "metadata": {
      "needs_background": "light"
     },
     "output_type": "display_data"
    },
    {
     "data": {
      "image/png": "[encoded data removed]",
      "text/plain": [
       "<Figure size 720x360 with 1 Axes>"
      ]
     },
     "metadata": {
      "needs_background": "light"
     },
     "output_type": "display_data"
    },
    {
     "data": {
      "image/png": "[encoded data removed]",
      "text/plain": [
       "<Figure size 720x360 with 1 Axes>"
      ]
     },
     "metadata": {
      "needs_background": "light"
     },
     "output_type": "display_data"
    },
    {
     "data": {
      "image/png": "[encoded data removed]",
      "text/plain": [
       "<Figure size 720x360 with 1 Axes>"
      ]
     },
     "metadata": {
      "needs_background": "light"
     },
     "output_type": "display_data"
    },
    {
     "data": {
      "image/png": "[encoded data removed]",
      "text/plain": [
       "<Figure size 720x360 with 1 Axes>"
      ]
     },
     "metadata": {
      "needs_background": "light"
     },
     "output_type": "display_data"
    },
    {
     "data": {
      "image/png": "[encoded data removed]",
      "text/plain": [
       "<Figure size 720x360 with 1 Axes>"
      ]
     },
     "metadata": {
      "needs_background": "light"
     },
     "output_type": "display_data"
    },
    {
     "data": {
      "image/png": "[encoded data removed]",
      "text/plain": [
       "<Figure size 720x360 with 1 Axes>"
      ]
     },
     "metadata": {
      "needs_background": "light"
     },
     "output_type": "display_data"
    },
    {
     "data": {
      "image/png": "[encoded data removed]",
      "text/plain": [
       "<Figure size 720x360 with 1 Axes>"
      ]
     },
     "metadata": {
      "needs_background": "light"
     },
     "output_type": "display_data"
    },
    {
     "data": {
      "image/png": "[encoded data removed]",
      "text/plain": [
       "<Figure size 720x360 with 1 Axes>"
      ]
     },
     "metadata": {
      "needs_background": "light"
     },
     "output_type": "display_data"
    },
    {
     "data": {
      "image/png": "[encoded data removed]",
      "text/plain": [
       "<Figure size 720x360 with 1 Axes>"
      ]
     },
     "metadata": {
      "needs_background": "light"
     },
     "output_type": "display_data"
    },
    {
     "data": {
      "image/png": "[encoded data removed]",
      "text/plain": [
       "<Figure size 720x360 with 1 Axes>"
      ]
     },
     "metadata": {
      "needs_background": "light"
     },
     "output_type": "display_data"
    },
    {
     "data": {
      "image/png": "[encoded data removed]",
      "text/plain": [
       "<Figure size 720x360 with 1 Axes>"
      ]
     },
     "metadata": {
      "needs_background": "light"
     },
     "output_type": "display_data"
    }
   ],
   "source": [
    "for feature in df1.columns:\n",
    "    if feature not in ['raisedhands','VisITedResources', 'AnnouncementsView', 'Discussion']:\n",
    "        fig_dims = (10, 5)\n",
    "        fig, ax = plt.subplots(figsize=fig_dims)\n",
    "        sns.barplot(x=df1[feature].unique(),y=df1[feature].value_counts(),data=df1)\n",
    "        plt.xlabel(feature)\n",
    "        plt.ylabel(\"Count\")\n",
    "        plt.title('Count of {}'.format(feature))\n",
    "        plt.show()    "
   ]
  },
  {
   "cell_type": "markdown",
   "id": "ddf92c5c",
   "metadata": {},
   "source": [
    "From the plots we can see the count of all categorical features. \n",
    "\n",
    "1. Count of male is more than female and we can use this to improve the gender ratio in the institution. \n",
    "\n",
    "2. Count of nationality and place of birth can be used to improve the inclusivity of all the race and people with origin from different countries. We can ask them about the difficulty they are facing because of their origin and do something to improve their situations. \n",
    "\n",
    "3. Count of StageID gives the number of students in lower, medium and higher level. This keeps on decreasing and it could be because students are dropping out more in higher school, the reason for which could be financial or difficulty in completing the school. We can find ways to increase the number of students in highschool.\n",
    "\n",
    "4. Count of GradeID can be used to know how many students score average, above and beloweaverage. It can be used to know how the school itself is performing. If the school is getting more number of students with higher grades then the teaching strategies are good and the students are performing good.\n",
    "\n",
    "5. Count of SectionID can be used to know how many students belong in each section.\n",
    "\n",
    "6. Count of Topic can be used to know what students are preferring to study the most and allocate more funds in that area and if students don't prefer certain subjects we can get feedback and try to improve on those.\n",
    "\n",
    "7. Count of Student absent days can be used to know if students are taking more or less absence and can find a way to counteract that."
   ]
  },
  {
   "cell_type": "markdown",
   "id": "9e98c650",
   "metadata": {},
   "source": [
    "### Question 2: Look at some categorical features in relation to each other, to see what insights could be possibly read?"
   ]
  },
  {
   "cell_type": "code",
   "execution_count": 20,
   "id": "d2579469",
   "metadata": {},
   "outputs": [
    {
     "data": {
      "image/png": "[encoded data removed]",
      "text/plain": [
       "<Figure size 720x360 with 1 Axes>"
      ]
     },
     "metadata": {
      "needs_background": "light"
     },
     "output_type": "display_data"
    },
    {
     "data": {
      "image/png": "[encoded data removed]",
      "text/plain": [
       "<Figure size 720x360 with 1 Axes>"
      ]
     },
     "metadata": {
      "needs_background": "light"
     },
     "output_type": "display_data"
    },
    {
     "data": {
      "image/png": "[encoded data removed]",
      "text/plain": [
       "<Figure size 720x360 with 1 Axes>"
      ]
     },
     "metadata": {
      "needs_background": "light"
     },
     "output_type": "display_data"
    },
    {
     "data": {
      "image/png": "[encoded data removed]",
      "text/plain": [
       "<Figure size 720x360 with 1 Axes>"
      ]
     },
     "metadata": {
      "needs_background": "light"
     },
     "output_type": "display_data"
    },
    {
     "data": {
      "image/png": "[encoded data removed]",
      "text/plain": [
       "<Figure size 720x360 with 1 Axes>"
      ]
     },
     "metadata": {
      "needs_background": "light"
     },
     "output_type": "display_data"
    },
    {
     "data": {
      "image/png": "[encoded data removed]",
      "text/plain": [
       "<Figure size 720x360 with 1 Axes>"
      ]
     },
     "metadata": {
      "needs_background": "light"
     },
     "output_type": "display_data"
    },
    {
     "data": {
      "image/png": "[encoded data removed]",
      "text/plain": [
       "<Figure size 720x360 with 1 Axes>"
      ]
     },
     "metadata": {
      "needs_background": "light"
     },
     "output_type": "display_data"
    },
    {
     "data": {
      "image/png": "[encoded data removed]",
      "text/plain": [
       "<Figure size 720x360 with 1 Axes>"
      ]
     },
     "metadata": {
      "needs_background": "light"
     },
     "output_type": "display_data"
    },
    {
     "data": {
      "image/png": "[encoded data removed]",
      "text/plain": [
       "<Figure size 720x360 with 1 Axes>"
      ]
     },
     "metadata": {
      "needs_background": "light"
     },
     "output_type": "display_data"
    },
    {
     "data": {
      "image/png": "[encoded data removed]",
      "text/plain": [
       "<Figure size 720x360 with 1 Axes>"
      ]
     },
     "metadata": {
      "needs_background": "light"
     },
     "output_type": "display_data"
    },
    {
     "data": {
      "image/png": "[encoded data removed]",
      "text/plain": [
       "<Figure size 720x360 with 1 Axes>"
      ]
     },
     "metadata": {
      "needs_background": "light"
     },
     "output_type": "display_data"
    },
    {
     "data": {
      "image/png": "[encoded data removed]",
      "text/plain": [
       "<Figure size 720x360 with 1 Axes>"
      ]
     },
     "metadata": {
      "needs_background": "light"
     },
     "output_type": "display_data"
    }
   ],
   "source": [
    "#first comparing all the categorical features with dependent variable Class\n",
    "for feature in df1.columns:\n",
    "    if feature not in ['raisedhands','VisITedResources', 'AnnouncementsView', 'Discussion','Class']:\n",
    "        fig_dims = (10, 5)\n",
    "        fig, ax = plt.subplots(figsize=fig_dims)\n",
    "        sns.countplot(x=feature,hue='Class',data=df1)\n",
    "        plt.xlabel(feature)\n",
    "        plt.ylabel(\"Count\")\n",
    "        plt.title('Count of {}'.format(feature))\n",
    "        plt.show()"
   ]
  },
  {
   "cell_type": "code",
   "execution_count": 21,
   "id": "4578018c",
   "metadata": {},
   "outputs": [
    {
     "data": {
      "image/png": "[encoded data removed]",
      "text/plain": [
       "<Figure size 432x288 with 1 Axes>"
      ]
     },
     "metadata": {
      "needs_background": "light"
     },
     "output_type": "display_data"
    }
   ],
   "source": [
    "#To find if the parenents who took survey gave good or bad review\n",
    "sns.countplot(x='ParentAnsweringSurvey',hue='ParentschoolSatisfaction',data=df1)\n",
    "plt.show()"
   ]
  },
  {
   "cell_type": "markdown",
   "id": "4a546380",
   "metadata": {},
   "source": [
    "Those parents who have answered survey have given little Bad reviews compared to the parents who didn't answer survey. We can say like the parents who don't have good reviews are trying not to answer surveys. We can use this to interact with parents on why they are not answering the survey and where the instituion can be improved."
   ]
  },
  {
   "cell_type": "code",
   "execution_count": 22,
   "id": "e4f7cc4a",
   "metadata": {},
   "outputs": [
    {
     "data": {
      "image/png": "[encoded data removed]",
      "text/plain": [
       "<Figure size 432x288 with 1 Axes>"
      ]
     },
     "metadata": {
      "needs_background": "light"
     },
     "output_type": "display_data"
    }
   ],
   "source": [
    "#To find gender wise how many have taken above and below 7 days leave\n",
    "sns.countplot(x='Gender',hue='StudentAbsenceDays',order=['M','F'],data=df1)\n",
    "plt.show()"
   ]
  },
  {
   "cell_type": "markdown",
   "id": "902efa48",
   "metadata": {},
   "source": [
    "We can see gender wise, female have very few who have taken more than 7 days leave compared to less than 7 days leave. In Male, more people have taken above-7 days leave compared to female. Generally Male students are taking more leave compared to Female students."
   ]
  },
  {
   "cell_type": "code",
   "execution_count": 23,
   "id": "e76ce458",
   "metadata": {},
   "outputs": [
    {
     "data": {
      "image/png": "[encoded data removed]",
      "text/plain": [
       "<Figure size 720x360 with 1 Axes>"
      ]
     },
     "metadata": {
      "needs_background": "light"
     },
     "output_type": "display_data"
    }
   ],
   "source": [
    "fig_dims = (10, 5)\n",
    "fig, ax = plt.subplots(figsize=fig_dims)\n",
    "sns.countplot(x='Topic',hue='Gender',data=df1);"
   ]
  },
  {
   "cell_type": "markdown",
   "id": "7b023eec",
   "metadata": {},
   "source": [
    "By looking at the plot we can say there are more number of males in all the Topics, while there is a lot of variation in Spanish between male and female numbers, In chemistry the number of male and female are equal. In none of the Topics number of females is more than male students. We can use this to inspire more female students to pursue the course and improve the gender ratio in the classes."
   ]
  },
  {
   "cell_type": "code",
   "execution_count": 24,
   "id": "373aa2e2",
   "metadata": {},
   "outputs": [
    {
     "data": {
      "image/png": "[encoded data removed]",
      "text/plain": [
       "<Figure size 432x288 with 1 Axes>"
      ]
     },
     "metadata": {
      "needs_background": "light"
     },
     "output_type": "display_data"
    }
   ],
   "source": [
    "sns.countplot(x='Semester',hue='Gender',data=df1);"
   ]
  },
  {
   "cell_type": "markdown",
   "id": "127c06d6",
   "metadata": {},
   "source": [
    "In both the semesters the number of male is more than female. The number of male in semester F and S are almost equal, whereas the number of female in semester F is more than S concluding more number of female candidates are enrolling this semester. So whatever strategies we have used this year to get more females to enroll, we can try and use the same the next semester to improve the gender ratio."
   ]
  },
  {
   "cell_type": "code",
   "execution_count": 25,
   "id": "11b256ee",
   "metadata": {},
   "outputs": [
    {
     "data": {
      "image/png": "[encoded data removed]",
      "text/plain": [
       "<Figure size 432x288 with 1 Axes>"
      ]
     },
     "metadata": {
      "needs_background": "light"
     },
     "output_type": "display_data"
    }
   ],
   "source": [
    "sns.countplot(x='StageID',hue='Gender',data=df1);"
   ]
  },
  {
   "cell_type": "markdown",
   "id": "fd80ecc2",
   "metadata": {},
   "source": [
    "There are very few people in high school and a lot in middle school, but again the female count is less compared to male in all three. We can find why there are less number of students in high school to increase the number of admissions  in high school an reduce the drop out."
   ]
  },
  {
   "cell_type": "code",
   "execution_count": 26,
   "id": "a02108b6",
   "metadata": {},
   "outputs": [
    {
     "data": {
      "image/png": "[encoded data removed]",
      "text/plain": [
       "<Figure size 720x360 with 1 Axes>"
      ]
     },
     "metadata": {
      "needs_background": "light"
     },
     "output_type": "display_data"
    }
   ],
   "source": [
    "fig_dims = (10, 5)\n",
    "fig, ax = plt.subplots(figsize=fig_dims)\n",
    "sns.countplot(x='Topic',hue='Semester',data=df1);"
   ]
  },
  {
   "cell_type": "markdown",
   "id": "2acaac34",
   "metadata": {},
   "source": [
    "The enrollment of IT in first semester is a lot more compared to second semester, meaning most of students prefer to take IT as a subject in first semester. None of the students preder to take Spanish as a subject in first semester. "
   ]
  },
  {
   "cell_type": "code",
   "execution_count": 27,
   "id": "ca7ad91e",
   "metadata": {},
   "outputs": [
    {
     "data": {
      "image/png": "[encoded data removed]",
      "text/plain": [
       "<Figure size 432x288 with 1 Axes>"
      ]
     },
     "metadata": {
      "needs_background": "light"
     },
     "output_type": "display_data"
    }
   ],
   "source": [
    "sns.countplot(x='Gender',hue='ParentschoolSatisfaction',data=df1)\n",
    "plt.show()"
   ]
  },
  {
   "cell_type": "markdown",
   "id": "e6109773",
   "metadata": {},
   "source": [
    "The satisfaction of parents of both the gender is leaning towards good more than bad. "
   ]
  },
  {
   "cell_type": "code",
   "execution_count": 28,
   "id": "3ee848f6",
   "metadata": {},
   "outputs": [
    {
     "data": {
      "image/png": "[encoded data removed]",
      "text/plain": [
       "<Figure size 432x288 with 1 Axes>"
      ]
     },
     "metadata": {
      "needs_background": "light"
     },
     "output_type": "display_data"
    }
   ],
   "source": [
    "sns.countplot(x='GradeID',hue='Gender',data=df1)\n",
    "plt.show()"
   ]
  },
  {
   "cell_type": "markdown",
   "id": "f7b8dacd",
   "metadata": {},
   "source": [
    "Based on gender we can see the performance of students and their grade. Generally Male students are performing better compared to female."
   ]
  },
  {
   "cell_type": "code",
   "execution_count": 29,
   "id": "a2d29b35",
   "metadata": {},
   "outputs": [
    {
     "data": {
      "image/png": "[encoded data removed]",
      "text/plain": [
       "<Figure size 432x288 with 1 Axes>"
      ]
     },
     "metadata": {
      "needs_background": "light"
     },
     "output_type": "display_data"
    }
   ],
   "source": [
    "sns.countplot(x='SectionID',hue='Gender',data=df1)\n",
    "plt.show()"
   ]
  },
  {
   "cell_type": "markdown",
   "id": "3aff604d",
   "metadata": {},
   "source": [
    "There are very few people in C section and lot of them are in A section. The number of girls is the lowest in C Section and the number of boys is the most in A section."
   ]
  },
  {
   "cell_type": "markdown",
   "id": "9fbbecfc",
   "metadata": {},
   "source": [
    "### Question 3: Visualize categorical variables with numerical variables and give conclusions?"
   ]
  },
  {
   "cell_type": "code",
   "execution_count": 30,
   "id": "8da7bf1c",
   "metadata": {},
   "outputs": [
    {
     "data": {
      "image/png": "[encoded data removed]",
      "text/plain": [
       "<Figure size 432x288 with 1 Axes>"
      ]
     },
     "metadata": {
      "needs_background": "light"
     },
     "output_type": "display_data"
    }
   ],
   "source": [
    "sns.barplot(x=\"Class\",y=\"VisITedResources\",order=['H','M','L'],data=df1);"
   ]
  },
  {
   "cell_type": "markdown",
   "id": "c8dbd5b8",
   "metadata": {},
   "source": [
    "It shows that the Visited resources increases as we move from lower to higher classes. This shows more number of students from higher classes visit resources. As we move up the Class students visit more resources to get better understanding of the subject."
   ]
  },
  {
   "cell_type": "code",
   "execution_count": 31,
   "id": "74eb273c",
   "metadata": {},
   "outputs": [
    {
     "data": {
      "image/png": "[encoded data removed]",
      "text/plain": [
       "<Figure size 720x360 with 1 Axes>"
      ]
     },
     "metadata": {
      "needs_background": "light"
     },
     "output_type": "display_data"
    }
   ],
   "source": [
    "fig_dims = (10, 5)\n",
    "fig, ax = plt.subplots(figsize=fig_dims)\n",
    "sns.barplot(x=\"Topic\", y=\"VisITedResources\",data=df1);"
   ]
  },
  {
   "cell_type": "markdown",
   "id": "36773ee5",
   "metadata": {},
   "source": [
    "It shows that the students of Math have Visited resources the least and Geology the most."
   ]
  },
  {
   "cell_type": "code",
   "execution_count": 32,
   "id": "328cb814",
   "metadata": {},
   "outputs": [
    {
     "data": {
      "image/png": "[encoded data removed]",
      "text/plain": [
       "<Figure size 432x288 with 1 Axes>"
      ]
     },
     "metadata": {
      "needs_background": "light"
     },
     "output_type": "display_data"
    }
   ],
   "source": [
    "sns.barplot(x=\"Semester\",y=\"VisITedResources\",data=df1);"
   ]
  },
  {
   "cell_type": "markdown",
   "id": "af3ed3ae",
   "metadata": {},
   "source": [
    "Students have visited resources more in the second semester compared to the first."
   ]
  },
  {
   "cell_type": "code",
   "execution_count": 33,
   "id": "7cee1eea",
   "metadata": {},
   "outputs": [
    {
     "data": {
      "image/png": "[encoded data removed]",
      "text/plain": [
       "<Figure size 432x288 with 1 Axes>"
      ]
     },
     "metadata": {
      "needs_background": "light"
     },
     "output_type": "display_data"
    }
   ],
   "source": [
    "sns.barplot(x=\"Gender\", y=\"VisITedResources\",data=df1);"
   ]
  },
  {
   "cell_type": "markdown",
   "id": "caf3e7c5",
   "metadata": {},
   "source": [
    "Female students have visited resources more compared to male students."
   ]
  },
  {
   "cell_type": "code",
   "execution_count": 34,
   "id": "bf102842",
   "metadata": {},
   "outputs": [
    {
     "data": {
      "image/png": "[encoded data removed]",
      "text/plain": [
       "<Figure size 432x288 with 1 Axes>"
      ]
     },
     "metadata": {
      "needs_background": "light"
     },
     "output_type": "display_data"
    }
   ],
   "source": [
    "sns.barplot(x=\"Semester\",y=\"VisITedResources\",hue=\"Gender\",data=df1);"
   ]
  },
  {
   "cell_type": "markdown",
   "id": "2022d417",
   "metadata": {},
   "source": [
    "In both semesters female students have visited resources more than male. And the number of students who have visited resouces is more during First compared to Second semester."
   ]
  },
  {
   "cell_type": "code",
   "execution_count": 35,
   "id": "8e02c6a3",
   "metadata": {},
   "outputs": [
    {
     "data": {
      "image/png": "[encoded data removed]",
      "text/plain": [
       "<Figure size 432x288 with 1 Axes>"
      ]
     },
     "metadata": {
      "needs_background": "light"
     },
     "output_type": "display_data"
    }
   ],
   "source": [
    "sns.barplot(x=\"Semester\",y=\"Discussion\",hue=\"Gender\",data=df1);"
   ]
  },
  {
   "cell_type": "markdown",
   "id": "63fb9d18",
   "metadata": {},
   "source": [
    "The number of discussions is almost equal in both the semesters and the participation of female students in discussions is more compared to male."
   ]
  },
  {
   "cell_type": "code",
   "execution_count": 36,
   "id": "941e8227",
   "metadata": {},
   "outputs": [
    {
     "data": {
      "image/png": "[encoded data removed]",
      "text/plain": [
       "<Figure size 432x288 with 1 Axes>"
      ]
     },
     "metadata": {
      "needs_background": "light"
     },
     "output_type": "display_data"
    }
   ],
   "source": [
    "sns.barplot(x=\"Gender\", y=\"raisedhands\",data=df1);"
   ]
  },
  {
   "cell_type": "markdown",
   "id": "f342a328",
   "metadata": {},
   "source": [
    "Female students have raised hands more compared to male students indicating they have interacted better in class compared to male."
   ]
  },
  {
   "cell_type": "code",
   "execution_count": 37,
   "id": "5b355cc5",
   "metadata": {},
   "outputs": [
    {
     "data": {
      "image/png": "[encoded data removed]",
      "text/plain": [
       "<Figure size 432x288 with 1 Axes>"
      ]
     },
     "metadata": {
      "needs_background": "light"
     },
     "output_type": "display_data"
    }
   ],
   "source": [
    "sns.barplot(x=\"GradeID\", y=\"Discussion\",data=df1);"
   ]
  },
  {
   "cell_type": "markdown",
   "id": "89dc6ace",
   "metadata": {},
   "source": [
    "The students with GradeID G=09 have had more discussions and those with GradeID G-05 havehad least discussions."
   ]
  },
  {
   "cell_type": "code",
   "execution_count": 38,
   "id": "8d09eb5d",
   "metadata": {},
   "outputs": [
    {
     "data": {
      "image/png": "[encoded data removed]",
      "text/plain": [
       "<Figure size 432x288 with 1 Axes>"
      ]
     },
     "metadata": {
      "needs_background": "light"
     },
     "output_type": "display_data"
    }
   ],
   "source": [
    "sns.barplot(x=\"StageID\", y=\"Discussion\",data=df1);"
   ]
  },
  {
   "cell_type": "markdown",
   "id": "f889a6d7",
   "metadata": {},
   "source": [
    "The number of discussions are increasing as we move to higher grade meaning better interaction in the class."
   ]
  },
  {
   "cell_type": "code",
   "execution_count": 39,
   "id": "4e18133b",
   "metadata": {},
   "outputs": [
    {
     "data": {
      "image/png": "[encoded data removed]",
      "text/plain": [
       "<Figure size 432x288 with 1 Axes>"
      ]
     },
     "metadata": {
      "needs_background": "light"
     },
     "output_type": "display_data"
    }
   ],
   "source": [
    "sns.barplot(x=\"SectionID\", y=\"Discussion\",data=df1);"
   ]
  },
  {
   "cell_type": "markdown",
   "id": "33b5a677",
   "metadata": {},
   "source": [
    "The number of discussions had by A section is more than B, and B is more than C, we can A is more interactive of them all."
   ]
  },
  {
   "cell_type": "code",
   "execution_count": 40,
   "id": "7912fe5b",
   "metadata": {},
   "outputs": [
    {
     "data": {
      "image/png": "[encoded data removed]",
      "text/plain": [
       "<Figure size 432x288 with 1 Axes>"
      ]
     },
     "metadata": {
      "needs_background": "light"
     },
     "output_type": "display_data"
    }
   ],
   "source": [
    "sns.barplot(x=\"SectionID\", y=\"Discussion\",hue='StageID',data=df1);"
   ]
  },
  {
   "cell_type": "markdown",
   "id": "94a41132",
   "metadata": {},
   "source": [
    "There is no C section in Highschool, and we can see a pattern here that as we move to higher classes discussions are more. The middle school C section has least number of discussions, whereas HighSchool B section has most number of discussions."
   ]
  },
  {
   "cell_type": "markdown",
   "id": "a9827122",
   "metadata": {},
   "source": [
    "### Question 4: From the above result, what are the factors that leads to get low grades of the students?"
   ]
  },
  {
   "cell_type": "code",
   "execution_count": 41,
   "id": "62d33a93",
   "metadata": {},
   "outputs": [
    {
     "data": {
      "text/html": [
       "<div>\n",
       "<style scoped>\n",
       "    .dataframe tbody tr th:only-of-type {\n",
       "        vertical-align: middle;\n",
       "    }\n",
       "\n",
       "    .dataframe tbody tr th {\n",
       "        vertical-align: top;\n",
       "    }\n",
       "\n",
       "    .dataframe thead th {\n",
       "        text-align: right;\n",
       "    }\n",
       "</style>\n",
       "<table border=\"1\" class=\"dataframe\">\n",
       "  <thead>\n",
       "    <tr style=\"text-align: right;\">\n",
       "      <th></th>\n",
       "      <th>AnnouncementsView</th>\n",
       "      <th>Discussion</th>\n",
       "      <th>VisITedResources</th>\n",
       "      <th>raisedhands</th>\n",
       "    </tr>\n",
       "    <tr>\n",
       "      <th>GradeID</th>\n",
       "      <th></th>\n",
       "      <th></th>\n",
       "      <th></th>\n",
       "      <th></th>\n",
       "    </tr>\n",
       "  </thead>\n",
       "  <tbody>\n",
       "    <tr>\n",
       "      <th>G-02</th>\n",
       "      <td>28.122449</td>\n",
       "      <td>34.374150</td>\n",
       "      <td>51.476190</td>\n",
       "      <td>36.530612</td>\n",
       "    </tr>\n",
       "    <tr>\n",
       "      <th>G-04</th>\n",
       "      <td>43.125000</td>\n",
       "      <td>51.125000</td>\n",
       "      <td>51.687500</td>\n",
       "      <td>46.729167</td>\n",
       "    </tr>\n",
       "    <tr>\n",
       "      <th>G-05</th>\n",
       "      <td>12.666667</td>\n",
       "      <td>30.000000</td>\n",
       "      <td>14.000000</td>\n",
       "      <td>12.000000</td>\n",
       "    </tr>\n",
       "    <tr>\n",
       "      <th>G-06</th>\n",
       "      <td>47.000000</td>\n",
       "      <td>45.343750</td>\n",
       "      <td>54.937500</td>\n",
       "      <td>61.625000</td>\n",
       "    </tr>\n",
       "    <tr>\n",
       "      <th>G-07</th>\n",
       "      <td>37.811881</td>\n",
       "      <td>48.485149</td>\n",
       "      <td>53.811881</td>\n",
       "      <td>47.722772</td>\n",
       "    </tr>\n",
       "    <tr>\n",
       "      <th>G-08</th>\n",
       "      <td>46.715517</td>\n",
       "      <td>43.784483</td>\n",
       "      <td>63.370690</td>\n",
       "      <td>56.784483</td>\n",
       "    </tr>\n",
       "    <tr>\n",
       "      <th>G-09</th>\n",
       "      <td>27.000000</td>\n",
       "      <td>58.000000</td>\n",
       "      <td>46.000000</td>\n",
       "      <td>21.600000</td>\n",
       "    </tr>\n",
       "    <tr>\n",
       "      <th>G-10</th>\n",
       "      <td>31.250000</td>\n",
       "      <td>33.500000</td>\n",
       "      <td>44.500000</td>\n",
       "      <td>36.750000</td>\n",
       "    </tr>\n",
       "    <tr>\n",
       "      <th>G-11</th>\n",
       "      <td>52.384615</td>\n",
       "      <td>55.692308</td>\n",
       "      <td>62.307692</td>\n",
       "      <td>58.307692</td>\n",
       "    </tr>\n",
       "    <tr>\n",
       "      <th>G-12</th>\n",
       "      <td>25.090909</td>\n",
       "      <td>54.909091</td>\n",
       "      <td>41.000000</td>\n",
       "      <td>37.363636</td>\n",
       "    </tr>\n",
       "  </tbody>\n",
       "</table>\n",
       "</div>"
      ],
      "text/plain": [
       "         AnnouncementsView  Discussion  VisITedResources  raisedhands\n",
       "GradeID                                                              \n",
       "G-02             28.122449   34.374150         51.476190    36.530612\n",
       "G-04             43.125000   51.125000         51.687500    46.729167\n",
       "G-05             12.666667   30.000000         14.000000    12.000000\n",
       "G-06             47.000000   45.343750         54.937500    61.625000\n",
       "G-07             37.811881   48.485149         53.811881    47.722772\n",
       "G-08             46.715517   43.784483         63.370690    56.784483\n",
       "G-09             27.000000   58.000000         46.000000    21.600000\n",
       "G-10             31.250000   33.500000         44.500000    36.750000\n",
       "G-11             52.384615   55.692308         62.307692    58.307692\n",
       "G-12             25.090909   54.909091         41.000000    37.363636"
      ]
     },
     "execution_count": 41,
     "metadata": {},
     "output_type": "execute_result"
    }
   ],
   "source": [
    "table = pd.pivot_table(data=df,index=['GradeID'])\n",
    "table1 = pd.DataFrame(table)\n",
    "table1"
   ]
  },
  {
   "cell_type": "markdown",
   "id": "2e6078fc",
   "metadata": {},
   "source": [
    "We are finding the mean value of all numerical columns based on gradeId. "
   ]
  },
  {
   "cell_type": "markdown",
   "id": "0bbaf075",
   "metadata": {},
   "source": [
    "In reality GradeID is most influenced by number of discussions, raisedhands which imply students are interactive and absentdays which affects students' performance."
   ]
  },
  {
   "cell_type": "code",
   "execution_count": 42,
   "id": "72289651",
   "metadata": {},
   "outputs": [
    {
     "data": {
      "image/png": "[encoded data removed]",
      "text/plain": [
       "<Figure size 432x288 with 1 Axes>"
      ]
     },
     "metadata": {
      "needs_background": "light"
     },
     "output_type": "display_data"
    }
   ],
   "source": [
    "sns.barplot(x=\"GradeID\", y=\"Discussion\",data=df1);"
   ]
  },
  {
   "cell_type": "markdown",
   "id": "9bcbe2e1",
   "metadata": {},
   "source": [
    "The students of average grade G-09 have had most  discussions and then the students of higher grade have had 2nd highest discussion. We need to find why even though students of grade G-06 and G-04 after having many discussions haven't scored higher grades. "
   ]
  },
  {
   "cell_type": "code",
   "execution_count": 43,
   "id": "334e86ac",
   "metadata": {},
   "outputs": [
    {
     "data": {
      "image/png": "[encoded data removed]",
      "text/plain": [
       "<Figure size 432x288 with 1 Axes>"
      ]
     },
     "metadata": {
      "needs_background": "light"
     },
     "output_type": "display_data"
    }
   ],
   "source": [
    "#sns.countplot(x=df1['GradeID'].unique(), y=df1['StudentAbsenceDays'].values_count(),data=df1);\n",
    "sns.countplot(x='GradeID',hue='StudentAbsenceDays',data=df1)\n",
    "plt.show()"
   ]
  },
  {
   "cell_type": "markdown",
   "id": "ce12e949",
   "metadata": {},
   "source": [
    "It is evident from the plot that students who have taken a lot of leaves have scored lower grade signifying their performance is affected by being absent."
   ]
  },
  {
   "cell_type": "code",
   "execution_count": 44,
   "id": "3bea43c5",
   "metadata": {},
   "outputs": [
    {
     "data": {
      "image/png": "[encoded data removed]",
      "text/plain": [
       "<Figure size 432x288 with 1 Axes>"
      ]
     },
     "metadata": {
      "needs_background": "light"
     },
     "output_type": "display_data"
    }
   ],
   "source": [
    "sns.barplot(x=\"GradeID\", y=\"raisedhands\",data=df1);"
   ]
  },
  {
   "cell_type": "markdown",
   "id": "65043628",
   "metadata": {},
   "source": [
    "Raisedhands doesn't exactly pin point if the students will score higher grade. There is no definitive pattern we can detect between raising hands and their grades."
   ]
  },
  {
   "cell_type": "markdown",
   "id": "c79a0297",
   "metadata": {},
   "source": [
    "### Question 5: Build classification model and present it's classification report?"
   ]
  },
  {
   "cell_type": "code",
   "execution_count": 45,
   "id": "115130f3",
   "metadata": {},
   "outputs": [
    {
     "data": {
      "text/html": [
       "<div>\n",
       "<style scoped>\n",
       "    .dataframe tbody tr th:only-of-type {\n",
       "        vertical-align: middle;\n",
       "    }\n",
       "\n",
       "    .dataframe tbody tr th {\n",
       "        vertical-align: top;\n",
       "    }\n",
       "\n",
       "    .dataframe thead th {\n",
       "        text-align: right;\n",
       "    }\n",
       "</style>\n",
       "<table border=\"1\" class=\"dataframe\">\n",
       "  <thead>\n",
       "    <tr style=\"text-align: right;\">\n",
       "      <th></th>\n",
       "      <th>Gender</th>\n",
       "      <th>NationalITy</th>\n",
       "      <th>PlaceofBirth</th>\n",
       "      <th>StageID</th>\n",
       "      <th>GradeID</th>\n",
       "      <th>SectionID</th>\n",
       "      <th>Topic</th>\n",
       "      <th>Semester</th>\n",
       "      <th>Relation</th>\n",
       "      <th>raisedhands</th>\n",
       "      <th>VisITedResources</th>\n",
       "      <th>AnnouncementsView</th>\n",
       "      <th>Discussion</th>\n",
       "      <th>ParentAnsweringSurvey</th>\n",
       "      <th>ParentschoolSatisfaction</th>\n",
       "      <th>StudentAbsenceDays</th>\n",
       "      <th>Class</th>\n",
       "    </tr>\n",
       "  </thead>\n",
       "  <tbody>\n",
       "    <tr>\n",
       "      <th>0</th>\n",
       "      <td>M</td>\n",
       "      <td>KW</td>\n",
       "      <td>KuwaIT</td>\n",
       "      <td>lowerlevel</td>\n",
       "      <td>G-04</td>\n",
       "      <td>A</td>\n",
       "      <td>IT</td>\n",
       "      <td>F</td>\n",
       "      <td>Father</td>\n",
       "      <td>15</td>\n",
       "      <td>16</td>\n",
       "      <td>2</td>\n",
       "      <td>20</td>\n",
       "      <td>Yes</td>\n",
       "      <td>Good</td>\n",
       "      <td>Under-7</td>\n",
       "      <td>M</td>\n",
       "    </tr>\n",
       "    <tr>\n",
       "      <th>1</th>\n",
       "      <td>M</td>\n",
       "      <td>KW</td>\n",
       "      <td>KuwaIT</td>\n",
       "      <td>lowerlevel</td>\n",
       "      <td>G-04</td>\n",
       "      <td>A</td>\n",
       "      <td>IT</td>\n",
       "      <td>F</td>\n",
       "      <td>Father</td>\n",
       "      <td>20</td>\n",
       "      <td>20</td>\n",
       "      <td>3</td>\n",
       "      <td>25</td>\n",
       "      <td>Yes</td>\n",
       "      <td>Good</td>\n",
       "      <td>Under-7</td>\n",
       "      <td>M</td>\n",
       "    </tr>\n",
       "    <tr>\n",
       "      <th>2</th>\n",
       "      <td>M</td>\n",
       "      <td>KW</td>\n",
       "      <td>KuwaIT</td>\n",
       "      <td>lowerlevel</td>\n",
       "      <td>G-04</td>\n",
       "      <td>A</td>\n",
       "      <td>IT</td>\n",
       "      <td>F</td>\n",
       "      <td>Father</td>\n",
       "      <td>10</td>\n",
       "      <td>7</td>\n",
       "      <td>0</td>\n",
       "      <td>30</td>\n",
       "      <td>No</td>\n",
       "      <td>Bad</td>\n",
       "      <td>Above-7</td>\n",
       "      <td>L</td>\n",
       "    </tr>\n",
       "    <tr>\n",
       "      <th>3</th>\n",
       "      <td>M</td>\n",
       "      <td>KW</td>\n",
       "      <td>KuwaIT</td>\n",
       "      <td>lowerlevel</td>\n",
       "      <td>G-04</td>\n",
       "      <td>A</td>\n",
       "      <td>IT</td>\n",
       "      <td>F</td>\n",
       "      <td>Father</td>\n",
       "      <td>30</td>\n",
       "      <td>25</td>\n",
       "      <td>5</td>\n",
       "      <td>35</td>\n",
       "      <td>No</td>\n",
       "      <td>Bad</td>\n",
       "      <td>Above-7</td>\n",
       "      <td>L</td>\n",
       "    </tr>\n",
       "    <tr>\n",
       "      <th>4</th>\n",
       "      <td>M</td>\n",
       "      <td>KW</td>\n",
       "      <td>KuwaIT</td>\n",
       "      <td>lowerlevel</td>\n",
       "      <td>G-04</td>\n",
       "      <td>A</td>\n",
       "      <td>IT</td>\n",
       "      <td>F</td>\n",
       "      <td>Father</td>\n",
       "      <td>40</td>\n",
       "      <td>50</td>\n",
       "      <td>12</td>\n",
       "      <td>50</td>\n",
       "      <td>No</td>\n",
       "      <td>Bad</td>\n",
       "      <td>Above-7</td>\n",
       "      <td>M</td>\n",
       "    </tr>\n",
       "  </tbody>\n",
       "</table>\n",
       "</div>"
      ],
      "text/plain": [
       "  Gender NationalITy PlaceofBirth     StageID GradeID SectionID Topic  \\\n",
       "0      M          KW       KuwaIT  lowerlevel    G-04         A    IT   \n",
       "1      M          KW       KuwaIT  lowerlevel    G-04         A    IT   \n",
       "2      M          KW       KuwaIT  lowerlevel    G-04         A    IT   \n",
       "3      M          KW       KuwaIT  lowerlevel    G-04         A    IT   \n",
       "4      M          KW       KuwaIT  lowerlevel    G-04         A    IT   \n",
       "\n",
       "  Semester Relation  raisedhands  VisITedResources  AnnouncementsView  \\\n",
       "0        F   Father           15                16                  2   \n",
       "1        F   Father           20                20                  3   \n",
       "2        F   Father           10                 7                  0   \n",
       "3        F   Father           30                25                  5   \n",
       "4        F   Father           40                50                 12   \n",
       "\n",
       "   Discussion ParentAnsweringSurvey ParentschoolSatisfaction  \\\n",
       "0          20                   Yes                     Good   \n",
       "1          25                   Yes                     Good   \n",
       "2          30                    No                      Bad   \n",
       "3          35                    No                      Bad   \n",
       "4          50                    No                      Bad   \n",
       "\n",
       "  StudentAbsenceDays Class  \n",
       "0            Under-7     M  \n",
       "1            Under-7     M  \n",
       "2            Above-7     L  \n",
       "3            Above-7     L  \n",
       "4            Above-7     M  "
      ]
     },
     "execution_count": 45,
     "metadata": {},
     "output_type": "execute_result"
    }
   ],
   "source": [
    "df1.head()"
   ]
  },
  {
   "cell_type": "code",
   "execution_count": 46,
   "id": "4fbe4d7b",
   "metadata": {},
   "outputs": [
    {
     "data": {
      "text/html": [
       "<div>\n",
       "<style scoped>\n",
       "    .dataframe tbody tr th:only-of-type {\n",
       "        vertical-align: middle;\n",
       "    }\n",
       "\n",
       "    .dataframe tbody tr th {\n",
       "        vertical-align: top;\n",
       "    }\n",
       "\n",
       "    .dataframe thead th {\n",
       "        text-align: right;\n",
       "    }\n",
       "</style>\n",
       "<table border=\"1\" class=\"dataframe\">\n",
       "  <thead>\n",
       "    <tr style=\"text-align: right;\">\n",
       "      <th></th>\n",
       "      <th>Gender</th>\n",
       "      <th>NationalITy</th>\n",
       "      <th>PlaceofBirth</th>\n",
       "      <th>StageID</th>\n",
       "      <th>GradeID</th>\n",
       "      <th>SectionID</th>\n",
       "      <th>Topic</th>\n",
       "      <th>Semester</th>\n",
       "      <th>Relation</th>\n",
       "      <th>raisedhands</th>\n",
       "      <th>VisITedResources</th>\n",
       "      <th>AnnouncementsView</th>\n",
       "      <th>Discussion</th>\n",
       "      <th>ParentAnsweringSurvey</th>\n",
       "      <th>ParentschoolSatisfaction</th>\n",
       "      <th>StudentAbsenceDays</th>\n",
       "      <th>Class</th>\n",
       "    </tr>\n",
       "  </thead>\n",
       "  <tbody>\n",
       "    <tr>\n",
       "      <th>0</th>\n",
       "      <td>M</td>\n",
       "      <td>KW</td>\n",
       "      <td>KuwaIT</td>\n",
       "      <td>lowerlevel</td>\n",
       "      <td>G-04</td>\n",
       "      <td>A</td>\n",
       "      <td>IT</td>\n",
       "      <td>F</td>\n",
       "      <td>Father</td>\n",
       "      <td>15</td>\n",
       "      <td>16</td>\n",
       "      <td>2</td>\n",
       "      <td>20</td>\n",
       "      <td>Yes</td>\n",
       "      <td>Good</td>\n",
       "      <td>Under-7</td>\n",
       "      <td>M</td>\n",
       "    </tr>\n",
       "    <tr>\n",
       "      <th>1</th>\n",
       "      <td>M</td>\n",
       "      <td>KW</td>\n",
       "      <td>KuwaIT</td>\n",
       "      <td>lowerlevel</td>\n",
       "      <td>G-04</td>\n",
       "      <td>A</td>\n",
       "      <td>IT</td>\n",
       "      <td>F</td>\n",
       "      <td>Father</td>\n",
       "      <td>20</td>\n",
       "      <td>20</td>\n",
       "      <td>3</td>\n",
       "      <td>25</td>\n",
       "      <td>Yes</td>\n",
       "      <td>Good</td>\n",
       "      <td>Under-7</td>\n",
       "      <td>M</td>\n",
       "    </tr>\n",
       "    <tr>\n",
       "      <th>2</th>\n",
       "      <td>M</td>\n",
       "      <td>KW</td>\n",
       "      <td>KuwaIT</td>\n",
       "      <td>lowerlevel</td>\n",
       "      <td>G-04</td>\n",
       "      <td>A</td>\n",
       "      <td>IT</td>\n",
       "      <td>F</td>\n",
       "      <td>Father</td>\n",
       "      <td>10</td>\n",
       "      <td>7</td>\n",
       "      <td>0</td>\n",
       "      <td>30</td>\n",
       "      <td>No</td>\n",
       "      <td>Bad</td>\n",
       "      <td>Above-7</td>\n",
       "      <td>L</td>\n",
       "    </tr>\n",
       "    <tr>\n",
       "      <th>3</th>\n",
       "      <td>M</td>\n",
       "      <td>KW</td>\n",
       "      <td>KuwaIT</td>\n",
       "      <td>lowerlevel</td>\n",
       "      <td>G-04</td>\n",
       "      <td>A</td>\n",
       "      <td>IT</td>\n",
       "      <td>F</td>\n",
       "      <td>Father</td>\n",
       "      <td>30</td>\n",
       "      <td>25</td>\n",
       "      <td>5</td>\n",
       "      <td>35</td>\n",
       "      <td>No</td>\n",
       "      <td>Bad</td>\n",
       "      <td>Above-7</td>\n",
       "      <td>L</td>\n",
       "    </tr>\n",
       "    <tr>\n",
       "      <th>4</th>\n",
       "      <td>M</td>\n",
       "      <td>KW</td>\n",
       "      <td>KuwaIT</td>\n",
       "      <td>lowerlevel</td>\n",
       "      <td>G-04</td>\n",
       "      <td>A</td>\n",
       "      <td>IT</td>\n",
       "      <td>F</td>\n",
       "      <td>Father</td>\n",
       "      <td>40</td>\n",
       "      <td>50</td>\n",
       "      <td>12</td>\n",
       "      <td>50</td>\n",
       "      <td>No</td>\n",
       "      <td>Bad</td>\n",
       "      <td>Above-7</td>\n",
       "      <td>M</td>\n",
       "    </tr>\n",
       "  </tbody>\n",
       "</table>\n",
       "</div>"
      ],
      "text/plain": [
       "  Gender NationalITy PlaceofBirth     StageID GradeID SectionID Topic  \\\n",
       "0      M          KW       KuwaIT  lowerlevel    G-04         A    IT   \n",
       "1      M          KW       KuwaIT  lowerlevel    G-04         A    IT   \n",
       "2      M          KW       KuwaIT  lowerlevel    G-04         A    IT   \n",
       "3      M          KW       KuwaIT  lowerlevel    G-04         A    IT   \n",
       "4      M          KW       KuwaIT  lowerlevel    G-04         A    IT   \n",
       "\n",
       "  Semester Relation  raisedhands  VisITedResources  AnnouncementsView  \\\n",
       "0        F   Father           15                16                  2   \n",
       "1        F   Father           20                20                  3   \n",
       "2        F   Father           10                 7                  0   \n",
       "3        F   Father           30                25                  5   \n",
       "4        F   Father           40                50                 12   \n",
       "\n",
       "   Discussion ParentAnsweringSurvey ParentschoolSatisfaction  \\\n",
       "0          20                   Yes                     Good   \n",
       "1          25                   Yes                     Good   \n",
       "2          30                    No                      Bad   \n",
       "3          35                    No                      Bad   \n",
       "4          50                    No                      Bad   \n",
       "\n",
       "  StudentAbsenceDays Class  \n",
       "0            Under-7     M  \n",
       "1            Under-7     M  \n",
       "2            Above-7     L  \n",
       "3            Above-7     L  \n",
       "4            Above-7     M  "
      ]
     },
     "execution_count": 46,
     "metadata": {},
     "output_type": "execute_result"
    }
   ],
   "source": [
    "df3=df1.copy()\n",
    "df3.head()"
   ]
  },
  {
   "cell_type": "code",
   "execution_count": 47,
   "id": "64ba74d5",
   "metadata": {},
   "outputs": [
    {
     "name": "stdout",
     "output_type": "stream",
     "text": [
      "<class 'pandas.core.frame.DataFrame'>\n",
      "RangeIndex: 480 entries, 0 to 479\n",
      "Data columns (total 17 columns):\n",
      " #   Column                    Non-Null Count  Dtype   \n",
      "---  ------                    --------------  -----   \n",
      " 0   Gender                    480 non-null    category\n",
      " 1   NationalITy               480 non-null    category\n",
      " 2   PlaceofBirth              480 non-null    category\n",
      " 3   StageID                   480 non-null    category\n",
      " 4   GradeID                   480 non-null    category\n",
      " 5   SectionID                 480 non-null    category\n",
      " 6   Topic                     480 non-null    category\n",
      " 7   Semester                  480 non-null    category\n",
      " 8   Relation                  480 non-null    category\n",
      " 9   raisedhands               480 non-null    int64   \n",
      " 10  VisITedResources          480 non-null    int64   \n",
      " 11  AnnouncementsView         480 non-null    int64   \n",
      " 12  Discussion                480 non-null    int64   \n",
      " 13  ParentAnsweringSurvey     480 non-null    category\n",
      " 14  ParentschoolSatisfaction  480 non-null    category\n",
      " 15  StudentAbsenceDays        480 non-null    category\n",
      " 16  Class                     480 non-null    category\n",
      "dtypes: category(13), int64(4)\n",
      "memory usage: 24.4 KB\n"
     ]
    }
   ],
   "source": [
    "df3.info()"
   ]
  },
  {
   "cell_type": "markdown",
   "id": "d45d142b",
   "metadata": {},
   "source": [
    "#### Multi-collinearity Check:"
   ]
  },
  {
   "cell_type": "code",
   "execution_count": 48,
   "id": "ee28db31",
   "metadata": {},
   "outputs": [],
   "source": [
    "vif = pd.DataFrame()\n",
    "vif['feature'] = numerical_features\n",
    "vif['VIF'] = [variance_inflation_factor(df1.iloc[:,9:13].values,i) for i in range(len(df1.iloc[:,9:13].columns))]"
   ]
  },
  {
   "cell_type": "code",
   "execution_count": 49,
   "id": "2df6128d",
   "metadata": {},
   "outputs": [
    {
     "data": {
      "text/html": [
       "<div>\n",
       "<style scoped>\n",
       "    .dataframe tbody tr th:only-of-type {\n",
       "        vertical-align: middle;\n",
       "    }\n",
       "\n",
       "    .dataframe tbody tr th {\n",
       "        vertical-align: top;\n",
       "    }\n",
       "\n",
       "    .dataframe thead th {\n",
       "        text-align: right;\n",
       "    }\n",
       "</style>\n",
       "<table border=\"1\" class=\"dataframe\">\n",
       "  <thead>\n",
       "    <tr style=\"text-align: right;\">\n",
       "      <th></th>\n",
       "      <th>feature</th>\n",
       "      <th>VIF</th>\n",
       "    </tr>\n",
       "  </thead>\n",
       "  <tbody>\n",
       "    <tr>\n",
       "      <th>0</th>\n",
       "      <td>raisedhands</td>\n",
       "      <td>7.624493</td>\n",
       "    </tr>\n",
       "    <tr>\n",
       "      <th>1</th>\n",
       "      <td>VisITedResources</td>\n",
       "      <td>6.893179</td>\n",
       "    </tr>\n",
       "    <tr>\n",
       "      <th>2</th>\n",
       "      <td>AnnouncementsView</td>\n",
       "      <td>6.075343</td>\n",
       "    </tr>\n",
       "    <tr>\n",
       "      <th>3</th>\n",
       "      <td>Discussion</td>\n",
       "      <td>3.365527</td>\n",
       "    </tr>\n",
       "  </tbody>\n",
       "</table>\n",
       "</div>"
      ],
      "text/plain": [
       "             feature       VIF\n",
       "0        raisedhands  7.624493\n",
       "1   VisITedResources  6.893179\n",
       "2  AnnouncementsView  6.075343\n",
       "3         Discussion  3.365527"
      ]
     },
     "execution_count": 49,
     "metadata": {},
     "output_type": "execute_result"
    }
   ],
   "source": [
    "vif"
   ]
  },
  {
   "cell_type": "markdown",
   "id": "73b43bd0",
   "metadata": {},
   "source": [
    "There is a problem of multi-collinearity between the numerical featues.The feature raisedhands is most affected by other numerical features, whereas Discussion is least affected by other features."
   ]
  },
  {
   "cell_type": "markdown",
   "id": "d7728503",
   "metadata": {},
   "source": [
    "#### Prevalence Rate:\n",
    "It is used to find if the data set is balanced or not. The condition for balanced data is the minority class of the dataset should have more than 25% of data. Example: 60-40,70-30. In this the minority class is having 40 and 30 percent of data respectively. So such dataset are balanced.\n",
    "\n",
    "We can use this to find the metrics that we will adopt for the model.\n",
    "\n",
    "1. If the actual value is 0 and model is predicting 1, it is called 'False-Positive(FP)'.\n",
    "2. If the actual value is 1 and model is predicting 0, it is called 'False-Negative(FN)'.\n",
    "3. If the actual value is 0 and model is predicting 0, it is called 'True-Negative(TN)'.\n",
    "4. If the actual value is 1 and model is predicting 1, it is called 'True-Positive(TP)'.\n",
    "\n",
    "If the dataset is balanced the metrics we use is Accuracy. Else depending on 'False-Positive(FP)' and 'False-Negative(FN)' and their misclassification we can go for Precision, Recall or F1-Score.\n",
    "\n",
    "1. If concentration is more on FP -> Metrics = Precision.\n",
    "\n",
    "2. If concentration is more on FN -> Metrics = Recall.\n",
    "\n",
    "3. If concentration is more on both FN and FP -> Metrics = F1-Score. [Misclassification]\n",
    "\n",
    "4. If concentration is more on both TN and TP -> Metrics = Accuracy. [Correct Classification]\n"
   ]
  },
  {
   "cell_type": "code",
   "execution_count": 50,
   "id": "371ac950",
   "metadata": {},
   "outputs": [
    {
     "data": {
      "text/plain": [
       "M    0.439583\n",
       "H    0.295833\n",
       "L    0.264583\n",
       "Name: Class, dtype: float64"
      ]
     },
     "execution_count": 50,
     "metadata": {},
     "output_type": "execute_result"
    }
   ],
   "source": [
    "#Prevalence rate of the dataset\n",
    "df3['Class'].value_counts(normalize=True)"
   ]
  },
  {
   "cell_type": "markdown",
   "id": "b78fd84c",
   "metadata": {},
   "source": [
    "df4=df3.copy()\n",
    "\n",
    "df5=df3.copy()"
   ]
  },
  {
   "cell_type": "markdown",
   "id": "b7f93737",
   "metadata": {},
   "source": [
    "#### Encoding the data:"
   ]
  },
  {
   "cell_type": "code",
   "execution_count": 51,
   "id": "89090e1a",
   "metadata": {},
   "outputs": [
    {
     "data": {
      "text/html": [
       "<div>\n",
       "<style scoped>\n",
       "    .dataframe tbody tr th:only-of-type {\n",
       "        vertical-align: middle;\n",
       "    }\n",
       "\n",
       "    .dataframe tbody tr th {\n",
       "        vertical-align: top;\n",
       "    }\n",
       "\n",
       "    .dataframe thead th {\n",
       "        text-align: right;\n",
       "    }\n",
       "</style>\n",
       "<table border=\"1\" class=\"dataframe\">\n",
       "  <thead>\n",
       "    <tr style=\"text-align: right;\">\n",
       "      <th></th>\n",
       "      <th>Gender</th>\n",
       "      <th>NationalITy</th>\n",
       "      <th>PlaceofBirth</th>\n",
       "      <th>StageID</th>\n",
       "      <th>GradeID</th>\n",
       "      <th>SectionID</th>\n",
       "      <th>Topic</th>\n",
       "      <th>Semester</th>\n",
       "      <th>Relation</th>\n",
       "      <th>raisedhands</th>\n",
       "      <th>VisITedResources</th>\n",
       "      <th>AnnouncementsView</th>\n",
       "      <th>Discussion</th>\n",
       "      <th>ParentAnsweringSurvey</th>\n",
       "      <th>ParentschoolSatisfaction</th>\n",
       "      <th>StudentAbsenceDays</th>\n",
       "      <th>Class</th>\n",
       "    </tr>\n",
       "  </thead>\n",
       "  <tbody>\n",
       "    <tr>\n",
       "      <th>0</th>\n",
       "      <td>M</td>\n",
       "      <td>KW</td>\n",
       "      <td>KuwaIT</td>\n",
       "      <td>2</td>\n",
       "      <td>1</td>\n",
       "      <td>0</td>\n",
       "      <td>IT</td>\n",
       "      <td>F</td>\n",
       "      <td>Father</td>\n",
       "      <td>15</td>\n",
       "      <td>16</td>\n",
       "      <td>2</td>\n",
       "      <td>20</td>\n",
       "      <td>Yes</td>\n",
       "      <td>Good</td>\n",
       "      <td>Under-7</td>\n",
       "      <td>M</td>\n",
       "    </tr>\n",
       "    <tr>\n",
       "      <th>1</th>\n",
       "      <td>M</td>\n",
       "      <td>KW</td>\n",
       "      <td>KuwaIT</td>\n",
       "      <td>2</td>\n",
       "      <td>1</td>\n",
       "      <td>0</td>\n",
       "      <td>IT</td>\n",
       "      <td>F</td>\n",
       "      <td>Father</td>\n",
       "      <td>20</td>\n",
       "      <td>20</td>\n",
       "      <td>3</td>\n",
       "      <td>25</td>\n",
       "      <td>Yes</td>\n",
       "      <td>Good</td>\n",
       "      <td>Under-7</td>\n",
       "      <td>M</td>\n",
       "    </tr>\n",
       "    <tr>\n",
       "      <th>2</th>\n",
       "      <td>M</td>\n",
       "      <td>KW</td>\n",
       "      <td>KuwaIT</td>\n",
       "      <td>2</td>\n",
       "      <td>1</td>\n",
       "      <td>0</td>\n",
       "      <td>IT</td>\n",
       "      <td>F</td>\n",
       "      <td>Father</td>\n",
       "      <td>10</td>\n",
       "      <td>7</td>\n",
       "      <td>0</td>\n",
       "      <td>30</td>\n",
       "      <td>No</td>\n",
       "      <td>Bad</td>\n",
       "      <td>Above-7</td>\n",
       "      <td>L</td>\n",
       "    </tr>\n",
       "    <tr>\n",
       "      <th>3</th>\n",
       "      <td>M</td>\n",
       "      <td>KW</td>\n",
       "      <td>KuwaIT</td>\n",
       "      <td>2</td>\n",
       "      <td>1</td>\n",
       "      <td>0</td>\n",
       "      <td>IT</td>\n",
       "      <td>F</td>\n",
       "      <td>Father</td>\n",
       "      <td>30</td>\n",
       "      <td>25</td>\n",
       "      <td>5</td>\n",
       "      <td>35</td>\n",
       "      <td>No</td>\n",
       "      <td>Bad</td>\n",
       "      <td>Above-7</td>\n",
       "      <td>L</td>\n",
       "    </tr>\n",
       "    <tr>\n",
       "      <th>4</th>\n",
       "      <td>M</td>\n",
       "      <td>KW</td>\n",
       "      <td>KuwaIT</td>\n",
       "      <td>2</td>\n",
       "      <td>1</td>\n",
       "      <td>0</td>\n",
       "      <td>IT</td>\n",
       "      <td>F</td>\n",
       "      <td>Father</td>\n",
       "      <td>40</td>\n",
       "      <td>50</td>\n",
       "      <td>12</td>\n",
       "      <td>50</td>\n",
       "      <td>No</td>\n",
       "      <td>Bad</td>\n",
       "      <td>Above-7</td>\n",
       "      <td>M</td>\n",
       "    </tr>\n",
       "    <tr>\n",
       "      <th>...</th>\n",
       "      <td>...</td>\n",
       "      <td>...</td>\n",
       "      <td>...</td>\n",
       "      <td>...</td>\n",
       "      <td>...</td>\n",
       "      <td>...</td>\n",
       "      <td>...</td>\n",
       "      <td>...</td>\n",
       "      <td>...</td>\n",
       "      <td>...</td>\n",
       "      <td>...</td>\n",
       "      <td>...</td>\n",
       "      <td>...</td>\n",
       "      <td>...</td>\n",
       "      <td>...</td>\n",
       "      <td>...</td>\n",
       "      <td>...</td>\n",
       "    </tr>\n",
       "    <tr>\n",
       "      <th>475</th>\n",
       "      <td>F</td>\n",
       "      <td>Jordan</td>\n",
       "      <td>Jordan</td>\n",
       "      <td>1</td>\n",
       "      <td>5</td>\n",
       "      <td>0</td>\n",
       "      <td>Chemistry</td>\n",
       "      <td>S</td>\n",
       "      <td>Father</td>\n",
       "      <td>5</td>\n",
       "      <td>4</td>\n",
       "      <td>5</td>\n",
       "      <td>8</td>\n",
       "      <td>No</td>\n",
       "      <td>Bad</td>\n",
       "      <td>Above-7</td>\n",
       "      <td>L</td>\n",
       "    </tr>\n",
       "    <tr>\n",
       "      <th>476</th>\n",
       "      <td>F</td>\n",
       "      <td>Jordan</td>\n",
       "      <td>Jordan</td>\n",
       "      <td>1</td>\n",
       "      <td>5</td>\n",
       "      <td>0</td>\n",
       "      <td>Geology</td>\n",
       "      <td>F</td>\n",
       "      <td>Father</td>\n",
       "      <td>50</td>\n",
       "      <td>77</td>\n",
       "      <td>14</td>\n",
       "      <td>28</td>\n",
       "      <td>No</td>\n",
       "      <td>Bad</td>\n",
       "      <td>Under-7</td>\n",
       "      <td>M</td>\n",
       "    </tr>\n",
       "    <tr>\n",
       "      <th>477</th>\n",
       "      <td>F</td>\n",
       "      <td>Jordan</td>\n",
       "      <td>Jordan</td>\n",
       "      <td>1</td>\n",
       "      <td>5</td>\n",
       "      <td>0</td>\n",
       "      <td>Geology</td>\n",
       "      <td>S</td>\n",
       "      <td>Father</td>\n",
       "      <td>55</td>\n",
       "      <td>74</td>\n",
       "      <td>25</td>\n",
       "      <td>29</td>\n",
       "      <td>No</td>\n",
       "      <td>Bad</td>\n",
       "      <td>Under-7</td>\n",
       "      <td>M</td>\n",
       "    </tr>\n",
       "    <tr>\n",
       "      <th>478</th>\n",
       "      <td>F</td>\n",
       "      <td>Jordan</td>\n",
       "      <td>Jordan</td>\n",
       "      <td>1</td>\n",
       "      <td>5</td>\n",
       "      <td>0</td>\n",
       "      <td>History</td>\n",
       "      <td>F</td>\n",
       "      <td>Father</td>\n",
       "      <td>30</td>\n",
       "      <td>17</td>\n",
       "      <td>14</td>\n",
       "      <td>57</td>\n",
       "      <td>No</td>\n",
       "      <td>Bad</td>\n",
       "      <td>Above-7</td>\n",
       "      <td>L</td>\n",
       "    </tr>\n",
       "    <tr>\n",
       "      <th>479</th>\n",
       "      <td>F</td>\n",
       "      <td>Jordan</td>\n",
       "      <td>Jordan</td>\n",
       "      <td>1</td>\n",
       "      <td>5</td>\n",
       "      <td>0</td>\n",
       "      <td>History</td>\n",
       "      <td>S</td>\n",
       "      <td>Father</td>\n",
       "      <td>35</td>\n",
       "      <td>14</td>\n",
       "      <td>23</td>\n",
       "      <td>62</td>\n",
       "      <td>No</td>\n",
       "      <td>Bad</td>\n",
       "      <td>Above-7</td>\n",
       "      <td>L</td>\n",
       "    </tr>\n",
       "  </tbody>\n",
       "</table>\n",
       "<p>480 rows × 17 columns</p>\n",
       "</div>"
      ],
      "text/plain": [
       "    Gender NationalITy PlaceofBirth  StageID  GradeID  SectionID      Topic  \\\n",
       "0        M          KW       KuwaIT        2        1          0         IT   \n",
       "1        M          KW       KuwaIT        2        1          0         IT   \n",
       "2        M          KW       KuwaIT        2        1          0         IT   \n",
       "3        M          KW       KuwaIT        2        1          0         IT   \n",
       "4        M          KW       KuwaIT        2        1          0         IT   \n",
       "..     ...         ...          ...      ...      ...        ...        ...   \n",
       "475      F      Jordan       Jordan        1        5          0  Chemistry   \n",
       "476      F      Jordan       Jordan        1        5          0    Geology   \n",
       "477      F      Jordan       Jordan        1        5          0    Geology   \n",
       "478      F      Jordan       Jordan        1        5          0    History   \n",
       "479      F      Jordan       Jordan        1        5          0    History   \n",
       "\n",
       "    Semester Relation  raisedhands  VisITedResources  AnnouncementsView  \\\n",
       "0          F   Father           15                16                  2   \n",
       "1          F   Father           20                20                  3   \n",
       "2          F   Father           10                 7                  0   \n",
       "3          F   Father           30                25                  5   \n",
       "4          F   Father           40                50                 12   \n",
       "..       ...      ...          ...               ...                ...   \n",
       "475        S   Father            5                 4                  5   \n",
       "476        F   Father           50                77                 14   \n",
       "477        S   Father           55                74                 25   \n",
       "478        F   Father           30                17                 14   \n",
       "479        S   Father           35                14                 23   \n",
       "\n",
       "     Discussion ParentAnsweringSurvey ParentschoolSatisfaction  \\\n",
       "0            20                   Yes                     Good   \n",
       "1            25                   Yes                     Good   \n",
       "2            30                    No                      Bad   \n",
       "3            35                    No                      Bad   \n",
       "4            50                    No                      Bad   \n",
       "..          ...                   ...                      ...   \n",
       "475           8                    No                      Bad   \n",
       "476          28                    No                      Bad   \n",
       "477          29                    No                      Bad   \n",
       "478          57                    No                      Bad   \n",
       "479          62                    No                      Bad   \n",
       "\n",
       "    StudentAbsenceDays Class  \n",
       "0              Under-7     M  \n",
       "1              Under-7     M  \n",
       "2              Above-7     L  \n",
       "3              Above-7     L  \n",
       "4              Above-7     M  \n",
       "..                 ...   ...  \n",
       "475            Above-7     L  \n",
       "476            Under-7     M  \n",
       "477            Under-7     M  \n",
       "478            Above-7     L  \n",
       "479            Above-7     L  \n",
       "\n",
       "[480 rows x 17 columns]"
      ]
     },
     "execution_count": 51,
     "metadata": {},
     "output_type": "execute_result"
    }
   ],
   "source": [
    "encode=LabelEncoder()\n",
    "for feature in ['StageID','GradeID','SectionID']:\n",
    "    df3[feature]=encode.fit_transform(df3[feature])\n",
    "df3"
   ]
  },
  {
   "cell_type": "code",
   "execution_count": 52,
   "id": "f08c974f",
   "metadata": {},
   "outputs": [
    {
     "data": {
      "text/plain": [
       "M    0.439583\n",
       "H    0.295833\n",
       "L    0.264583\n",
       "Name: Class, dtype: float64"
      ]
     },
     "execution_count": 52,
     "metadata": {},
     "output_type": "execute_result"
    }
   ],
   "source": [
    "df3['Class'].value_counts(normalize=True)"
   ]
  },
  {
   "cell_type": "code",
   "execution_count": 53,
   "id": "428d9cc7",
   "metadata": {},
   "outputs": [
    {
     "data": {
      "text/html": [
       "<div>\n",
       "<style scoped>\n",
       "    .dataframe tbody tr th:only-of-type {\n",
       "        vertical-align: middle;\n",
       "    }\n",
       "\n",
       "    .dataframe tbody tr th {\n",
       "        vertical-align: top;\n",
       "    }\n",
       "\n",
       "    .dataframe thead th {\n",
       "        text-align: right;\n",
       "    }\n",
       "</style>\n",
       "<table border=\"1\" class=\"dataframe\">\n",
       "  <thead>\n",
       "    <tr style=\"text-align: right;\">\n",
       "      <th></th>\n",
       "      <th>Gender</th>\n",
       "      <th>NationalITy</th>\n",
       "      <th>PlaceofBirth</th>\n",
       "      <th>StageID</th>\n",
       "      <th>GradeID</th>\n",
       "      <th>SectionID</th>\n",
       "      <th>Topic</th>\n",
       "      <th>Semester</th>\n",
       "      <th>Relation</th>\n",
       "      <th>raisedhands</th>\n",
       "      <th>VisITedResources</th>\n",
       "      <th>AnnouncementsView</th>\n",
       "      <th>Discussion</th>\n",
       "      <th>ParentAnsweringSurvey</th>\n",
       "      <th>ParentschoolSatisfaction</th>\n",
       "      <th>StudentAbsenceDays</th>\n",
       "      <th>Class</th>\n",
       "    </tr>\n",
       "  </thead>\n",
       "  <tbody>\n",
       "    <tr>\n",
       "      <th>0</th>\n",
       "      <td>M</td>\n",
       "      <td>KW</td>\n",
       "      <td>KuwaIT</td>\n",
       "      <td>2</td>\n",
       "      <td>1</td>\n",
       "      <td>0</td>\n",
       "      <td>IT</td>\n",
       "      <td>F</td>\n",
       "      <td>Father</td>\n",
       "      <td>15</td>\n",
       "      <td>16</td>\n",
       "      <td>2</td>\n",
       "      <td>20</td>\n",
       "      <td>Yes</td>\n",
       "      <td>Good</td>\n",
       "      <td>Under-7</td>\n",
       "      <td>0</td>\n",
       "    </tr>\n",
       "    <tr>\n",
       "      <th>1</th>\n",
       "      <td>M</td>\n",
       "      <td>KW</td>\n",
       "      <td>KuwaIT</td>\n",
       "      <td>2</td>\n",
       "      <td>1</td>\n",
       "      <td>0</td>\n",
       "      <td>IT</td>\n",
       "      <td>F</td>\n",
       "      <td>Father</td>\n",
       "      <td>20</td>\n",
       "      <td>20</td>\n",
       "      <td>3</td>\n",
       "      <td>25</td>\n",
       "      <td>Yes</td>\n",
       "      <td>Good</td>\n",
       "      <td>Under-7</td>\n",
       "      <td>0</td>\n",
       "    </tr>\n",
       "    <tr>\n",
       "      <th>2</th>\n",
       "      <td>M</td>\n",
       "      <td>KW</td>\n",
       "      <td>KuwaIT</td>\n",
       "      <td>2</td>\n",
       "      <td>1</td>\n",
       "      <td>0</td>\n",
       "      <td>IT</td>\n",
       "      <td>F</td>\n",
       "      <td>Father</td>\n",
       "      <td>10</td>\n",
       "      <td>7</td>\n",
       "      <td>0</td>\n",
       "      <td>30</td>\n",
       "      <td>No</td>\n",
       "      <td>Bad</td>\n",
       "      <td>Above-7</td>\n",
       "      <td>2</td>\n",
       "    </tr>\n",
       "    <tr>\n",
       "      <th>3</th>\n",
       "      <td>M</td>\n",
       "      <td>KW</td>\n",
       "      <td>KuwaIT</td>\n",
       "      <td>2</td>\n",
       "      <td>1</td>\n",
       "      <td>0</td>\n",
       "      <td>IT</td>\n",
       "      <td>F</td>\n",
       "      <td>Father</td>\n",
       "      <td>30</td>\n",
       "      <td>25</td>\n",
       "      <td>5</td>\n",
       "      <td>35</td>\n",
       "      <td>No</td>\n",
       "      <td>Bad</td>\n",
       "      <td>Above-7</td>\n",
       "      <td>2</td>\n",
       "    </tr>\n",
       "    <tr>\n",
       "      <th>4</th>\n",
       "      <td>M</td>\n",
       "      <td>KW</td>\n",
       "      <td>KuwaIT</td>\n",
       "      <td>2</td>\n",
       "      <td>1</td>\n",
       "      <td>0</td>\n",
       "      <td>IT</td>\n",
       "      <td>F</td>\n",
       "      <td>Father</td>\n",
       "      <td>40</td>\n",
       "      <td>50</td>\n",
       "      <td>12</td>\n",
       "      <td>50</td>\n",
       "      <td>No</td>\n",
       "      <td>Bad</td>\n",
       "      <td>Above-7</td>\n",
       "      <td>0</td>\n",
       "    </tr>\n",
       "    <tr>\n",
       "      <th>...</th>\n",
       "      <td>...</td>\n",
       "      <td>...</td>\n",
       "      <td>...</td>\n",
       "      <td>...</td>\n",
       "      <td>...</td>\n",
       "      <td>...</td>\n",
       "      <td>...</td>\n",
       "      <td>...</td>\n",
       "      <td>...</td>\n",
       "      <td>...</td>\n",
       "      <td>...</td>\n",
       "      <td>...</td>\n",
       "      <td>...</td>\n",
       "      <td>...</td>\n",
       "      <td>...</td>\n",
       "      <td>...</td>\n",
       "      <td>...</td>\n",
       "    </tr>\n",
       "    <tr>\n",
       "      <th>475</th>\n",
       "      <td>F</td>\n",
       "      <td>Jordan</td>\n",
       "      <td>Jordan</td>\n",
       "      <td>1</td>\n",
       "      <td>5</td>\n",
       "      <td>0</td>\n",
       "      <td>Chemistry</td>\n",
       "      <td>S</td>\n",
       "      <td>Father</td>\n",
       "      <td>5</td>\n",
       "      <td>4</td>\n",
       "      <td>5</td>\n",
       "      <td>8</td>\n",
       "      <td>No</td>\n",
       "      <td>Bad</td>\n",
       "      <td>Above-7</td>\n",
       "      <td>2</td>\n",
       "    </tr>\n",
       "    <tr>\n",
       "      <th>476</th>\n",
       "      <td>F</td>\n",
       "      <td>Jordan</td>\n",
       "      <td>Jordan</td>\n",
       "      <td>1</td>\n",
       "      <td>5</td>\n",
       "      <td>0</td>\n",
       "      <td>Geology</td>\n",
       "      <td>F</td>\n",
       "      <td>Father</td>\n",
       "      <td>50</td>\n",
       "      <td>77</td>\n",
       "      <td>14</td>\n",
       "      <td>28</td>\n",
       "      <td>No</td>\n",
       "      <td>Bad</td>\n",
       "      <td>Under-7</td>\n",
       "      <td>0</td>\n",
       "    </tr>\n",
       "    <tr>\n",
       "      <th>477</th>\n",
       "      <td>F</td>\n",
       "      <td>Jordan</td>\n",
       "      <td>Jordan</td>\n",
       "      <td>1</td>\n",
       "      <td>5</td>\n",
       "      <td>0</td>\n",
       "      <td>Geology</td>\n",
       "      <td>S</td>\n",
       "      <td>Father</td>\n",
       "      <td>55</td>\n",
       "      <td>74</td>\n",
       "      <td>25</td>\n",
       "      <td>29</td>\n",
       "      <td>No</td>\n",
       "      <td>Bad</td>\n",
       "      <td>Under-7</td>\n",
       "      <td>0</td>\n",
       "    </tr>\n",
       "    <tr>\n",
       "      <th>478</th>\n",
       "      <td>F</td>\n",
       "      <td>Jordan</td>\n",
       "      <td>Jordan</td>\n",
       "      <td>1</td>\n",
       "      <td>5</td>\n",
       "      <td>0</td>\n",
       "      <td>History</td>\n",
       "      <td>F</td>\n",
       "      <td>Father</td>\n",
       "      <td>30</td>\n",
       "      <td>17</td>\n",
       "      <td>14</td>\n",
       "      <td>57</td>\n",
       "      <td>No</td>\n",
       "      <td>Bad</td>\n",
       "      <td>Above-7</td>\n",
       "      <td>2</td>\n",
       "    </tr>\n",
       "    <tr>\n",
       "      <th>479</th>\n",
       "      <td>F</td>\n",
       "      <td>Jordan</td>\n",
       "      <td>Jordan</td>\n",
       "      <td>1</td>\n",
       "      <td>5</td>\n",
       "      <td>0</td>\n",
       "      <td>History</td>\n",
       "      <td>S</td>\n",
       "      <td>Father</td>\n",
       "      <td>35</td>\n",
       "      <td>14</td>\n",
       "      <td>23</td>\n",
       "      <td>62</td>\n",
       "      <td>No</td>\n",
       "      <td>Bad</td>\n",
       "      <td>Above-7</td>\n",
       "      <td>2</td>\n",
       "    </tr>\n",
       "  </tbody>\n",
       "</table>\n",
       "<p>480 rows × 17 columns</p>\n",
       "</div>"
      ],
      "text/plain": [
       "    Gender NationalITy PlaceofBirth  StageID  GradeID  SectionID      Topic  \\\n",
       "0        M          KW       KuwaIT        2        1          0         IT   \n",
       "1        M          KW       KuwaIT        2        1          0         IT   \n",
       "2        M          KW       KuwaIT        2        1          0         IT   \n",
       "3        M          KW       KuwaIT        2        1          0         IT   \n",
       "4        M          KW       KuwaIT        2        1          0         IT   \n",
       "..     ...         ...          ...      ...      ...        ...        ...   \n",
       "475      F      Jordan       Jordan        1        5          0  Chemistry   \n",
       "476      F      Jordan       Jordan        1        5          0    Geology   \n",
       "477      F      Jordan       Jordan        1        5          0    Geology   \n",
       "478      F      Jordan       Jordan        1        5          0    History   \n",
       "479      F      Jordan       Jordan        1        5          0    History   \n",
       "\n",
       "    Semester Relation  raisedhands  VisITedResources  AnnouncementsView  \\\n",
       "0          F   Father           15                16                  2   \n",
       "1          F   Father           20                20                  3   \n",
       "2          F   Father           10                 7                  0   \n",
       "3          F   Father           30                25                  5   \n",
       "4          F   Father           40                50                 12   \n",
       "..       ...      ...          ...               ...                ...   \n",
       "475        S   Father            5                 4                  5   \n",
       "476        F   Father           50                77                 14   \n",
       "477        S   Father           55                74                 25   \n",
       "478        F   Father           30                17                 14   \n",
       "479        S   Father           35                14                 23   \n",
       "\n",
       "     Discussion ParentAnsweringSurvey ParentschoolSatisfaction  \\\n",
       "0            20                   Yes                     Good   \n",
       "1            25                   Yes                     Good   \n",
       "2            30                    No                      Bad   \n",
       "3            35                    No                      Bad   \n",
       "4            50                    No                      Bad   \n",
       "..          ...                   ...                      ...   \n",
       "475           8                    No                      Bad   \n",
       "476          28                    No                      Bad   \n",
       "477          29                    No                      Bad   \n",
       "478          57                    No                      Bad   \n",
       "479          62                    No                      Bad   \n",
       "\n",
       "    StudentAbsenceDays Class  \n",
       "0              Under-7     0  \n",
       "1              Under-7     0  \n",
       "2              Above-7     2  \n",
       "3              Above-7     2  \n",
       "4              Above-7     0  \n",
       "..                 ...   ...  \n",
       "475            Above-7     2  \n",
       "476            Under-7     0  \n",
       "477            Under-7     0  \n",
       "478            Above-7     2  \n",
       "479            Above-7     2  \n",
       "\n",
       "[480 rows x 17 columns]"
      ]
     },
     "execution_count": 53,
     "metadata": {},
     "output_type": "execute_result"
    }
   ],
   "source": [
    "df3['Class'].replace({'M':0},inplace=True)\n",
    "df3['Class'].replace({'L':2},inplace=True)\n",
    "df3['Class'].replace({'H':1},inplace=True)\n",
    "df3"
   ]
  },
  {
   "cell_type": "code",
   "execution_count": 54,
   "id": "be647cf8",
   "metadata": {},
   "outputs": [
    {
     "data": {
      "text/html": [
       "<div>\n",
       "<style scoped>\n",
       "    .dataframe tbody tr th:only-of-type {\n",
       "        vertical-align: middle;\n",
       "    }\n",
       "\n",
       "    .dataframe tbody tr th {\n",
       "        vertical-align: top;\n",
       "    }\n",
       "\n",
       "    .dataframe thead th {\n",
       "        text-align: right;\n",
       "    }\n",
       "</style>\n",
       "<table border=\"1\" class=\"dataframe\">\n",
       "  <thead>\n",
       "    <tr style=\"text-align: right;\">\n",
       "      <th></th>\n",
       "      <th>StageID</th>\n",
       "      <th>GradeID</th>\n",
       "      <th>SectionID</th>\n",
       "      <th>raisedhands</th>\n",
       "      <th>VisITedResources</th>\n",
       "      <th>AnnouncementsView</th>\n",
       "      <th>Discussion</th>\n",
       "      <th>Class</th>\n",
       "      <th>Gender_F</th>\n",
       "      <th>Gender_M</th>\n",
       "      <th>NationalITy_Egypt</th>\n",
       "      <th>NationalITy_Iran</th>\n",
       "      <th>NationalITy_Iraq</th>\n",
       "      <th>NationalITy_Jordan</th>\n",
       "      <th>NationalITy_KW</th>\n",
       "      <th>NationalITy_Lybia</th>\n",
       "      <th>NationalITy_Morocco</th>\n",
       "      <th>NationalITy_Palestine</th>\n",
       "      <th>NationalITy_SaudiArabia</th>\n",
       "      <th>NationalITy_Syria</th>\n",
       "      <th>NationalITy_Tunis</th>\n",
       "      <th>NationalITy_USA</th>\n",
       "      <th>NationalITy_lebanon</th>\n",
       "      <th>NationalITy_venzuela</th>\n",
       "      <th>PlaceofBirth_Egypt</th>\n",
       "      <th>PlaceofBirth_Iran</th>\n",
       "      <th>PlaceofBirth_Iraq</th>\n",
       "      <th>PlaceofBirth_Jordan</th>\n",
       "      <th>PlaceofBirth_KuwaIT</th>\n",
       "      <th>PlaceofBirth_Lybia</th>\n",
       "      <th>PlaceofBirth_Morocco</th>\n",
       "      <th>PlaceofBirth_Palestine</th>\n",
       "      <th>PlaceofBirth_SaudiArabia</th>\n",
       "      <th>PlaceofBirth_Syria</th>\n",
       "      <th>PlaceofBirth_Tunis</th>\n",
       "      <th>PlaceofBirth_USA</th>\n",
       "      <th>PlaceofBirth_lebanon</th>\n",
       "      <th>PlaceofBirth_venzuela</th>\n",
       "      <th>Topic_Arabic</th>\n",
       "      <th>Topic_Biology</th>\n",
       "      <th>Topic_Chemistry</th>\n",
       "      <th>Topic_English</th>\n",
       "      <th>Topic_French</th>\n",
       "      <th>Topic_Geology</th>\n",
       "      <th>Topic_History</th>\n",
       "      <th>Topic_IT</th>\n",
       "      <th>Topic_Math</th>\n",
       "      <th>Topic_Quran</th>\n",
       "      <th>Topic_Science</th>\n",
       "      <th>Topic_Spanish</th>\n",
       "      <th>Semester_F</th>\n",
       "      <th>Semester_S</th>\n",
       "      <th>Relation_Father</th>\n",
       "      <th>Relation_Mum</th>\n",
       "      <th>ParentAnsweringSurvey_No</th>\n",
       "      <th>ParentAnsweringSurvey_Yes</th>\n",
       "      <th>ParentschoolSatisfaction_Bad</th>\n",
       "      <th>ParentschoolSatisfaction_Good</th>\n",
       "      <th>StudentAbsenceDays_Above-7</th>\n",
       "      <th>StudentAbsenceDays_Under-7</th>\n",
       "    </tr>\n",
       "  </thead>\n",
       "  <tbody>\n",
       "    <tr>\n",
       "      <th>0</th>\n",
       "      <td>2</td>\n",
       "      <td>1</td>\n",
       "      <td>0</td>\n",
       "      <td>15</td>\n",
       "      <td>16</td>\n",
       "      <td>2</td>\n",
       "      <td>20</td>\n",
       "      <td>0</td>\n",
       "      <td>0</td>\n",
       "      <td>1</td>\n",
       "      <td>0</td>\n",
       "      <td>0</td>\n",
       "      <td>0</td>\n",
       "      <td>0</td>\n",
       "      <td>1</td>\n",
       "      <td>0</td>\n",
       "      <td>0</td>\n",
       "      <td>0</td>\n",
       "      <td>0</td>\n",
       "      <td>0</td>\n",
       "      <td>0</td>\n",
       "      <td>0</td>\n",
       "      <td>0</td>\n",
       "      <td>0</td>\n",
       "      <td>0</td>\n",
       "      <td>0</td>\n",
       "      <td>0</td>\n",
       "      <td>0</td>\n",
       "      <td>1</td>\n",
       "      <td>0</td>\n",
       "      <td>0</td>\n",
       "      <td>0</td>\n",
       "      <td>0</td>\n",
       "      <td>0</td>\n",
       "      <td>0</td>\n",
       "      <td>0</td>\n",
       "      <td>0</td>\n",
       "      <td>0</td>\n",
       "      <td>0</td>\n",
       "      <td>0</td>\n",
       "      <td>0</td>\n",
       "      <td>0</td>\n",
       "      <td>0</td>\n",
       "      <td>0</td>\n",
       "      <td>0</td>\n",
       "      <td>1</td>\n",
       "      <td>0</td>\n",
       "      <td>0</td>\n",
       "      <td>0</td>\n",
       "      <td>0</td>\n",
       "      <td>1</td>\n",
       "      <td>0</td>\n",
       "      <td>1</td>\n",
       "      <td>0</td>\n",
       "      <td>0</td>\n",
       "      <td>1</td>\n",
       "      <td>0</td>\n",
       "      <td>1</td>\n",
       "      <td>0</td>\n",
       "      <td>1</td>\n",
       "    </tr>\n",
       "    <tr>\n",
       "      <th>1</th>\n",
       "      <td>2</td>\n",
       "      <td>1</td>\n",
       "      <td>0</td>\n",
       "      <td>20</td>\n",
       "      <td>20</td>\n",
       "      <td>3</td>\n",
       "      <td>25</td>\n",
       "      <td>0</td>\n",
       "      <td>0</td>\n",
       "      <td>1</td>\n",
       "      <td>0</td>\n",
       "      <td>0</td>\n",
       "      <td>0</td>\n",
       "      <td>0</td>\n",
       "      <td>1</td>\n",
       "      <td>0</td>\n",
       "      <td>0</td>\n",
       "      <td>0</td>\n",
       "      <td>0</td>\n",
       "      <td>0</td>\n",
       "      <td>0</td>\n",
       "      <td>0</td>\n",
       "      <td>0</td>\n",
       "      <td>0</td>\n",
       "      <td>0</td>\n",
       "      <td>0</td>\n",
       "      <td>0</td>\n",
       "      <td>0</td>\n",
       "      <td>1</td>\n",
       "      <td>0</td>\n",
       "      <td>0</td>\n",
       "      <td>0</td>\n",
       "      <td>0</td>\n",
       "      <td>0</td>\n",
       "      <td>0</td>\n",
       "      <td>0</td>\n",
       "      <td>0</td>\n",
       "      <td>0</td>\n",
       "      <td>0</td>\n",
       "      <td>0</td>\n",
       "      <td>0</td>\n",
       "      <td>0</td>\n",
       "      <td>0</td>\n",
       "      <td>0</td>\n",
       "      <td>0</td>\n",
       "      <td>1</td>\n",
       "      <td>0</td>\n",
       "      <td>0</td>\n",
       "      <td>0</td>\n",
       "      <td>0</td>\n",
       "      <td>1</td>\n",
       "      <td>0</td>\n",
       "      <td>1</td>\n",
       "      <td>0</td>\n",
       "      <td>0</td>\n",
       "      <td>1</td>\n",
       "      <td>0</td>\n",
       "      <td>1</td>\n",
       "      <td>0</td>\n",
       "      <td>1</td>\n",
       "    </tr>\n",
       "    <tr>\n",
       "      <th>2</th>\n",
       "      <td>2</td>\n",
       "      <td>1</td>\n",
       "      <td>0</td>\n",
       "      <td>10</td>\n",
       "      <td>7</td>\n",
       "      <td>0</td>\n",
       "      <td>30</td>\n",
       "      <td>2</td>\n",
       "      <td>0</td>\n",
       "      <td>1</td>\n",
       "      <td>0</td>\n",
       "      <td>0</td>\n",
       "      <td>0</td>\n",
       "      <td>0</td>\n",
       "      <td>1</td>\n",
       "      <td>0</td>\n",
       "      <td>0</td>\n",
       "      <td>0</td>\n",
       "      <td>0</td>\n",
       "      <td>0</td>\n",
       "      <td>0</td>\n",
       "      <td>0</td>\n",
       "      <td>0</td>\n",
       "      <td>0</td>\n",
       "      <td>0</td>\n",
       "      <td>0</td>\n",
       "      <td>0</td>\n",
       "      <td>0</td>\n",
       "      <td>1</td>\n",
       "      <td>0</td>\n",
       "      <td>0</td>\n",
       "      <td>0</td>\n",
       "      <td>0</td>\n",
       "      <td>0</td>\n",
       "      <td>0</td>\n",
       "      <td>0</td>\n",
       "      <td>0</td>\n",
       "      <td>0</td>\n",
       "      <td>0</td>\n",
       "      <td>0</td>\n",
       "      <td>0</td>\n",
       "      <td>0</td>\n",
       "      <td>0</td>\n",
       "      <td>0</td>\n",
       "      <td>0</td>\n",
       "      <td>1</td>\n",
       "      <td>0</td>\n",
       "      <td>0</td>\n",
       "      <td>0</td>\n",
       "      <td>0</td>\n",
       "      <td>1</td>\n",
       "      <td>0</td>\n",
       "      <td>1</td>\n",
       "      <td>0</td>\n",
       "      <td>1</td>\n",
       "      <td>0</td>\n",
       "      <td>1</td>\n",
       "      <td>0</td>\n",
       "      <td>1</td>\n",
       "      <td>0</td>\n",
       "    </tr>\n",
       "    <tr>\n",
       "      <th>3</th>\n",
       "      <td>2</td>\n",
       "      <td>1</td>\n",
       "      <td>0</td>\n",
       "      <td>30</td>\n",
       "      <td>25</td>\n",
       "      <td>5</td>\n",
       "      <td>35</td>\n",
       "      <td>2</td>\n",
       "      <td>0</td>\n",
       "      <td>1</td>\n",
       "      <td>0</td>\n",
       "      <td>0</td>\n",
       "      <td>0</td>\n",
       "      <td>0</td>\n",
       "      <td>1</td>\n",
       "      <td>0</td>\n",
       "      <td>0</td>\n",
       "      <td>0</td>\n",
       "      <td>0</td>\n",
       "      <td>0</td>\n",
       "      <td>0</td>\n",
       "      <td>0</td>\n",
       "      <td>0</td>\n",
       "      <td>0</td>\n",
       "      <td>0</td>\n",
       "      <td>0</td>\n",
       "      <td>0</td>\n",
       "      <td>0</td>\n",
       "      <td>1</td>\n",
       "      <td>0</td>\n",
       "      <td>0</td>\n",
       "      <td>0</td>\n",
       "      <td>0</td>\n",
       "      <td>0</td>\n",
       "      <td>0</td>\n",
       "      <td>0</td>\n",
       "      <td>0</td>\n",
       "      <td>0</td>\n",
       "      <td>0</td>\n",
       "      <td>0</td>\n",
       "      <td>0</td>\n",
       "      <td>0</td>\n",
       "      <td>0</td>\n",
       "      <td>0</td>\n",
       "      <td>0</td>\n",
       "      <td>1</td>\n",
       "      <td>0</td>\n",
       "      <td>0</td>\n",
       "      <td>0</td>\n",
       "      <td>0</td>\n",
       "      <td>1</td>\n",
       "      <td>0</td>\n",
       "      <td>1</td>\n",
       "      <td>0</td>\n",
       "      <td>1</td>\n",
       "      <td>0</td>\n",
       "      <td>1</td>\n",
       "      <td>0</td>\n",
       "      <td>1</td>\n",
       "      <td>0</td>\n",
       "    </tr>\n",
       "    <tr>\n",
       "      <th>4</th>\n",
       "      <td>2</td>\n",
       "      <td>1</td>\n",
       "      <td>0</td>\n",
       "      <td>40</td>\n",
       "      <td>50</td>\n",
       "      <td>12</td>\n",
       "      <td>50</td>\n",
       "      <td>0</td>\n",
       "      <td>0</td>\n",
       "      <td>1</td>\n",
       "      <td>0</td>\n",
       "      <td>0</td>\n",
       "      <td>0</td>\n",
       "      <td>0</td>\n",
       "      <td>1</td>\n",
       "      <td>0</td>\n",
       "      <td>0</td>\n",
       "      <td>0</td>\n",
       "      <td>0</td>\n",
       "      <td>0</td>\n",
       "      <td>0</td>\n",
       "      <td>0</td>\n",
       "      <td>0</td>\n",
       "      <td>0</td>\n",
       "      <td>0</td>\n",
       "      <td>0</td>\n",
       "      <td>0</td>\n",
       "      <td>0</td>\n",
       "      <td>1</td>\n",
       "      <td>0</td>\n",
       "      <td>0</td>\n",
       "      <td>0</td>\n",
       "      <td>0</td>\n",
       "      <td>0</td>\n",
       "      <td>0</td>\n",
       "      <td>0</td>\n",
       "      <td>0</td>\n",
       "      <td>0</td>\n",
       "      <td>0</td>\n",
       "      <td>0</td>\n",
       "      <td>0</td>\n",
       "      <td>0</td>\n",
       "      <td>0</td>\n",
       "      <td>0</td>\n",
       "      <td>0</td>\n",
       "      <td>1</td>\n",
       "      <td>0</td>\n",
       "      <td>0</td>\n",
       "      <td>0</td>\n",
       "      <td>0</td>\n",
       "      <td>1</td>\n",
       "      <td>0</td>\n",
       "      <td>1</td>\n",
       "      <td>0</td>\n",
       "      <td>1</td>\n",
       "      <td>0</td>\n",
       "      <td>1</td>\n",
       "      <td>0</td>\n",
       "      <td>1</td>\n",
       "      <td>0</td>\n",
       "    </tr>\n",
       "    <tr>\n",
       "      <th>...</th>\n",
       "      <td>...</td>\n",
       "      <td>...</td>\n",
       "      <td>...</td>\n",
       "      <td>...</td>\n",
       "      <td>...</td>\n",
       "      <td>...</td>\n",
       "      <td>...</td>\n",
       "      <td>...</td>\n",
       "      <td>...</td>\n",
       "      <td>...</td>\n",
       "      <td>...</td>\n",
       "      <td>...</td>\n",
       "      <td>...</td>\n",
       "      <td>...</td>\n",
       "      <td>...</td>\n",
       "      <td>...</td>\n",
       "      <td>...</td>\n",
       "      <td>...</td>\n",
       "      <td>...</td>\n",
       "      <td>...</td>\n",
       "      <td>...</td>\n",
       "      <td>...</td>\n",
       "      <td>...</td>\n",
       "      <td>...</td>\n",
       "      <td>...</td>\n",
       "      <td>...</td>\n",
       "      <td>...</td>\n",
       "      <td>...</td>\n",
       "      <td>...</td>\n",
       "      <td>...</td>\n",
       "      <td>...</td>\n",
       "      <td>...</td>\n",
       "      <td>...</td>\n",
       "      <td>...</td>\n",
       "      <td>...</td>\n",
       "      <td>...</td>\n",
       "      <td>...</td>\n",
       "      <td>...</td>\n",
       "      <td>...</td>\n",
       "      <td>...</td>\n",
       "      <td>...</td>\n",
       "      <td>...</td>\n",
       "      <td>...</td>\n",
       "      <td>...</td>\n",
       "      <td>...</td>\n",
       "      <td>...</td>\n",
       "      <td>...</td>\n",
       "      <td>...</td>\n",
       "      <td>...</td>\n",
       "      <td>...</td>\n",
       "      <td>...</td>\n",
       "      <td>...</td>\n",
       "      <td>...</td>\n",
       "      <td>...</td>\n",
       "      <td>...</td>\n",
       "      <td>...</td>\n",
       "      <td>...</td>\n",
       "      <td>...</td>\n",
       "      <td>...</td>\n",
       "      <td>...</td>\n",
       "    </tr>\n",
       "    <tr>\n",
       "      <th>475</th>\n",
       "      <td>1</td>\n",
       "      <td>5</td>\n",
       "      <td>0</td>\n",
       "      <td>5</td>\n",
       "      <td>4</td>\n",
       "      <td>5</td>\n",
       "      <td>8</td>\n",
       "      <td>2</td>\n",
       "      <td>1</td>\n",
       "      <td>0</td>\n",
       "      <td>0</td>\n",
       "      <td>0</td>\n",
       "      <td>0</td>\n",
       "      <td>1</td>\n",
       "      <td>0</td>\n",
       "      <td>0</td>\n",
       "      <td>0</td>\n",
       "      <td>0</td>\n",
       "      <td>0</td>\n",
       "      <td>0</td>\n",
       "      <td>0</td>\n",
       "      <td>0</td>\n",
       "      <td>0</td>\n",
       "      <td>0</td>\n",
       "      <td>0</td>\n",
       "      <td>0</td>\n",
       "      <td>0</td>\n",
       "      <td>1</td>\n",
       "      <td>0</td>\n",
       "      <td>0</td>\n",
       "      <td>0</td>\n",
       "      <td>0</td>\n",
       "      <td>0</td>\n",
       "      <td>0</td>\n",
       "      <td>0</td>\n",
       "      <td>0</td>\n",
       "      <td>0</td>\n",
       "      <td>0</td>\n",
       "      <td>0</td>\n",
       "      <td>0</td>\n",
       "      <td>1</td>\n",
       "      <td>0</td>\n",
       "      <td>0</td>\n",
       "      <td>0</td>\n",
       "      <td>0</td>\n",
       "      <td>0</td>\n",
       "      <td>0</td>\n",
       "      <td>0</td>\n",
       "      <td>0</td>\n",
       "      <td>0</td>\n",
       "      <td>0</td>\n",
       "      <td>1</td>\n",
       "      <td>1</td>\n",
       "      <td>0</td>\n",
       "      <td>1</td>\n",
       "      <td>0</td>\n",
       "      <td>1</td>\n",
       "      <td>0</td>\n",
       "      <td>1</td>\n",
       "      <td>0</td>\n",
       "    </tr>\n",
       "    <tr>\n",
       "      <th>476</th>\n",
       "      <td>1</td>\n",
       "      <td>5</td>\n",
       "      <td>0</td>\n",
       "      <td>50</td>\n",
       "      <td>77</td>\n",
       "      <td>14</td>\n",
       "      <td>28</td>\n",
       "      <td>0</td>\n",
       "      <td>1</td>\n",
       "      <td>0</td>\n",
       "      <td>0</td>\n",
       "      <td>0</td>\n",
       "      <td>0</td>\n",
       "      <td>1</td>\n",
       "      <td>0</td>\n",
       "      <td>0</td>\n",
       "      <td>0</td>\n",
       "      <td>0</td>\n",
       "      <td>0</td>\n",
       "      <td>0</td>\n",
       "      <td>0</td>\n",
       "      <td>0</td>\n",
       "      <td>0</td>\n",
       "      <td>0</td>\n",
       "      <td>0</td>\n",
       "      <td>0</td>\n",
       "      <td>0</td>\n",
       "      <td>1</td>\n",
       "      <td>0</td>\n",
       "      <td>0</td>\n",
       "      <td>0</td>\n",
       "      <td>0</td>\n",
       "      <td>0</td>\n",
       "      <td>0</td>\n",
       "      <td>0</td>\n",
       "      <td>0</td>\n",
       "      <td>0</td>\n",
       "      <td>0</td>\n",
       "      <td>0</td>\n",
       "      <td>0</td>\n",
       "      <td>0</td>\n",
       "      <td>0</td>\n",
       "      <td>0</td>\n",
       "      <td>1</td>\n",
       "      <td>0</td>\n",
       "      <td>0</td>\n",
       "      <td>0</td>\n",
       "      <td>0</td>\n",
       "      <td>0</td>\n",
       "      <td>0</td>\n",
       "      <td>1</td>\n",
       "      <td>0</td>\n",
       "      <td>1</td>\n",
       "      <td>0</td>\n",
       "      <td>1</td>\n",
       "      <td>0</td>\n",
       "      <td>1</td>\n",
       "      <td>0</td>\n",
       "      <td>0</td>\n",
       "      <td>1</td>\n",
       "    </tr>\n",
       "    <tr>\n",
       "      <th>477</th>\n",
       "      <td>1</td>\n",
       "      <td>5</td>\n",
       "      <td>0</td>\n",
       "      <td>55</td>\n",
       "      <td>74</td>\n",
       "      <td>25</td>\n",
       "      <td>29</td>\n",
       "      <td>0</td>\n",
       "      <td>1</td>\n",
       "      <td>0</td>\n",
       "      <td>0</td>\n",
       "      <td>0</td>\n",
       "      <td>0</td>\n",
       "      <td>1</td>\n",
       "      <td>0</td>\n",
       "      <td>0</td>\n",
       "      <td>0</td>\n",
       "      <td>0</td>\n",
       "      <td>0</td>\n",
       "      <td>0</td>\n",
       "      <td>0</td>\n",
       "      <td>0</td>\n",
       "      <td>0</td>\n",
       "      <td>0</td>\n",
       "      <td>0</td>\n",
       "      <td>0</td>\n",
       "      <td>0</td>\n",
       "      <td>1</td>\n",
       "      <td>0</td>\n",
       "      <td>0</td>\n",
       "      <td>0</td>\n",
       "      <td>0</td>\n",
       "      <td>0</td>\n",
       "      <td>0</td>\n",
       "      <td>0</td>\n",
       "      <td>0</td>\n",
       "      <td>0</td>\n",
       "      <td>0</td>\n",
       "      <td>0</td>\n",
       "      <td>0</td>\n",
       "      <td>0</td>\n",
       "      <td>0</td>\n",
       "      <td>0</td>\n",
       "      <td>1</td>\n",
       "      <td>0</td>\n",
       "      <td>0</td>\n",
       "      <td>0</td>\n",
       "      <td>0</td>\n",
       "      <td>0</td>\n",
       "      <td>0</td>\n",
       "      <td>0</td>\n",
       "      <td>1</td>\n",
       "      <td>1</td>\n",
       "      <td>0</td>\n",
       "      <td>1</td>\n",
       "      <td>0</td>\n",
       "      <td>1</td>\n",
       "      <td>0</td>\n",
       "      <td>0</td>\n",
       "      <td>1</td>\n",
       "    </tr>\n",
       "    <tr>\n",
       "      <th>478</th>\n",
       "      <td>1</td>\n",
       "      <td>5</td>\n",
       "      <td>0</td>\n",
       "      <td>30</td>\n",
       "      <td>17</td>\n",
       "      <td>14</td>\n",
       "      <td>57</td>\n",
       "      <td>2</td>\n",
       "      <td>1</td>\n",
       "      <td>0</td>\n",
       "      <td>0</td>\n",
       "      <td>0</td>\n",
       "      <td>0</td>\n",
       "      <td>1</td>\n",
       "      <td>0</td>\n",
       "      <td>0</td>\n",
       "      <td>0</td>\n",
       "      <td>0</td>\n",
       "      <td>0</td>\n",
       "      <td>0</td>\n",
       "      <td>0</td>\n",
       "      <td>0</td>\n",
       "      <td>0</td>\n",
       "      <td>0</td>\n",
       "      <td>0</td>\n",
       "      <td>0</td>\n",
       "      <td>0</td>\n",
       "      <td>1</td>\n",
       "      <td>0</td>\n",
       "      <td>0</td>\n",
       "      <td>0</td>\n",
       "      <td>0</td>\n",
       "      <td>0</td>\n",
       "      <td>0</td>\n",
       "      <td>0</td>\n",
       "      <td>0</td>\n",
       "      <td>0</td>\n",
       "      <td>0</td>\n",
       "      <td>0</td>\n",
       "      <td>0</td>\n",
       "      <td>0</td>\n",
       "      <td>0</td>\n",
       "      <td>0</td>\n",
       "      <td>0</td>\n",
       "      <td>1</td>\n",
       "      <td>0</td>\n",
       "      <td>0</td>\n",
       "      <td>0</td>\n",
       "      <td>0</td>\n",
       "      <td>0</td>\n",
       "      <td>1</td>\n",
       "      <td>0</td>\n",
       "      <td>1</td>\n",
       "      <td>0</td>\n",
       "      <td>1</td>\n",
       "      <td>0</td>\n",
       "      <td>1</td>\n",
       "      <td>0</td>\n",
       "      <td>1</td>\n",
       "      <td>0</td>\n",
       "    </tr>\n",
       "    <tr>\n",
       "      <th>479</th>\n",
       "      <td>1</td>\n",
       "      <td>5</td>\n",
       "      <td>0</td>\n",
       "      <td>35</td>\n",
       "      <td>14</td>\n",
       "      <td>23</td>\n",
       "      <td>62</td>\n",
       "      <td>2</td>\n",
       "      <td>1</td>\n",
       "      <td>0</td>\n",
       "      <td>0</td>\n",
       "      <td>0</td>\n",
       "      <td>0</td>\n",
       "      <td>1</td>\n",
       "      <td>0</td>\n",
       "      <td>0</td>\n",
       "      <td>0</td>\n",
       "      <td>0</td>\n",
       "      <td>0</td>\n",
       "      <td>0</td>\n",
       "      <td>0</td>\n",
       "      <td>0</td>\n",
       "      <td>0</td>\n",
       "      <td>0</td>\n",
       "      <td>0</td>\n",
       "      <td>0</td>\n",
       "      <td>0</td>\n",
       "      <td>1</td>\n",
       "      <td>0</td>\n",
       "      <td>0</td>\n",
       "      <td>0</td>\n",
       "      <td>0</td>\n",
       "      <td>0</td>\n",
       "      <td>0</td>\n",
       "      <td>0</td>\n",
       "      <td>0</td>\n",
       "      <td>0</td>\n",
       "      <td>0</td>\n",
       "      <td>0</td>\n",
       "      <td>0</td>\n",
       "      <td>0</td>\n",
       "      <td>0</td>\n",
       "      <td>0</td>\n",
       "      <td>0</td>\n",
       "      <td>1</td>\n",
       "      <td>0</td>\n",
       "      <td>0</td>\n",
       "      <td>0</td>\n",
       "      <td>0</td>\n",
       "      <td>0</td>\n",
       "      <td>0</td>\n",
       "      <td>1</td>\n",
       "      <td>1</td>\n",
       "      <td>0</td>\n",
       "      <td>1</td>\n",
       "      <td>0</td>\n",
       "      <td>1</td>\n",
       "      <td>0</td>\n",
       "      <td>1</td>\n",
       "      <td>0</td>\n",
       "    </tr>\n",
       "  </tbody>\n",
       "</table>\n",
       "<p>480 rows × 60 columns</p>\n",
       "</div>"
      ],
      "text/plain": [
       "     StageID  GradeID  SectionID  raisedhands  VisITedResources  \\\n",
       "0          2        1          0           15                16   \n",
       "1          2        1          0           20                20   \n",
       "2          2        1          0           10                 7   \n",
       "3          2        1          0           30                25   \n",
       "4          2        1          0           40                50   \n",
       "..       ...      ...        ...          ...               ...   \n",
       "475        1        5          0            5                 4   \n",
       "476        1        5          0           50                77   \n",
       "477        1        5          0           55                74   \n",
       "478        1        5          0           30                17   \n",
       "479        1        5          0           35                14   \n",
       "\n",
       "     AnnouncementsView  Discussion Class  Gender_F  Gender_M  \\\n",
       "0                    2          20     0         0         1   \n",
       "1                    3          25     0         0         1   \n",
       "2                    0          30     2         0         1   \n",
       "3                    5          35     2         0         1   \n",
       "4                   12          50     0         0         1   \n",
       "..                 ...         ...   ...       ...       ...   \n",
       "475                  5           8     2         1         0   \n",
       "476                 14          28     0         1         0   \n",
       "477                 25          29     0         1         0   \n",
       "478                 14          57     2         1         0   \n",
       "479                 23          62     2         1         0   \n",
       "\n",
       "     NationalITy_Egypt  NationalITy_Iran  NationalITy_Iraq  \\\n",
       "0                    0                 0                 0   \n",
       "1                    0                 0                 0   \n",
       "2                    0                 0                 0   \n",
       "3                    0                 0                 0   \n",
       "4                    0                 0                 0   \n",
       "..                 ...               ...               ...   \n",
       "475                  0                 0                 0   \n",
       "476                  0                 0                 0   \n",
       "477                  0                 0                 0   \n",
       "478                  0                 0                 0   \n",
       "479                  0                 0                 0   \n",
       "\n",
       "     NationalITy_Jordan  NationalITy_KW  NationalITy_Lybia  \\\n",
       "0                     0               1                  0   \n",
       "1                     0               1                  0   \n",
       "2                     0               1                  0   \n",
       "3                     0               1                  0   \n",
       "4                     0               1                  0   \n",
       "..                  ...             ...                ...   \n",
       "475                   1               0                  0   \n",
       "476                   1               0                  0   \n",
       "477                   1               0                  0   \n",
       "478                   1               0                  0   \n",
       "479                   1               0                  0   \n",
       "\n",
       "     NationalITy_Morocco  NationalITy_Palestine  NationalITy_SaudiArabia  \\\n",
       "0                      0                      0                        0   \n",
       "1                      0                      0                        0   \n",
       "2                      0                      0                        0   \n",
       "3                      0                      0                        0   \n",
       "4                      0                      0                        0   \n",
       "..                   ...                    ...                      ...   \n",
       "475                    0                      0                        0   \n",
       "476                    0                      0                        0   \n",
       "477                    0                      0                        0   \n",
       "478                    0                      0                        0   \n",
       "479                    0                      0                        0   \n",
       "\n",
       "     NationalITy_Syria  NationalITy_Tunis  NationalITy_USA  \\\n",
       "0                    0                  0                0   \n",
       "1                    0                  0                0   \n",
       "2                    0                  0                0   \n",
       "3                    0                  0                0   \n",
       "4                    0                  0                0   \n",
       "..                 ...                ...              ...   \n",
       "475                  0                  0                0   \n",
       "476                  0                  0                0   \n",
       "477                  0                  0                0   \n",
       "478                  0                  0                0   \n",
       "479                  0                  0                0   \n",
       "\n",
       "     NationalITy_lebanon  NationalITy_venzuela  PlaceofBirth_Egypt  \\\n",
       "0                      0                     0                   0   \n",
       "1                      0                     0                   0   \n",
       "2                      0                     0                   0   \n",
       "3                      0                     0                   0   \n",
       "4                      0                     0                   0   \n",
       "..                   ...                   ...                 ...   \n",
       "475                    0                     0                   0   \n",
       "476                    0                     0                   0   \n",
       "477                    0                     0                   0   \n",
       "478                    0                     0                   0   \n",
       "479                    0                     0                   0   \n",
       "\n",
       "     PlaceofBirth_Iran  PlaceofBirth_Iraq  PlaceofBirth_Jordan  \\\n",
       "0                    0                  0                    0   \n",
       "1                    0                  0                    0   \n",
       "2                    0                  0                    0   \n",
       "3                    0                  0                    0   \n",
       "4                    0                  0                    0   \n",
       "..                 ...                ...                  ...   \n",
       "475                  0                  0                    1   \n",
       "476                  0                  0                    1   \n",
       "477                  0                  0                    1   \n",
       "478                  0                  0                    1   \n",
       "479                  0                  0                    1   \n",
       "\n",
       "     PlaceofBirth_KuwaIT  PlaceofBirth_Lybia  PlaceofBirth_Morocco  \\\n",
       "0                      1                   0                     0   \n",
       "1                      1                   0                     0   \n",
       "2                      1                   0                     0   \n",
       "3                      1                   0                     0   \n",
       "4                      1                   0                     0   \n",
       "..                   ...                 ...                   ...   \n",
       "475                    0                   0                     0   \n",
       "476                    0                   0                     0   \n",
       "477                    0                   0                     0   \n",
       "478                    0                   0                     0   \n",
       "479                    0                   0                     0   \n",
       "\n",
       "     PlaceofBirth_Palestine  PlaceofBirth_SaudiArabia  PlaceofBirth_Syria  \\\n",
       "0                         0                         0                   0   \n",
       "1                         0                         0                   0   \n",
       "2                         0                         0                   0   \n",
       "3                         0                         0                   0   \n",
       "4                         0                         0                   0   \n",
       "..                      ...                       ...                 ...   \n",
       "475                       0                         0                   0   \n",
       "476                       0                         0                   0   \n",
       "477                       0                         0                   0   \n",
       "478                       0                         0                   0   \n",
       "479                       0                         0                   0   \n",
       "\n",
       "     PlaceofBirth_Tunis  PlaceofBirth_USA  PlaceofBirth_lebanon  \\\n",
       "0                     0                 0                     0   \n",
       "1                     0                 0                     0   \n",
       "2                     0                 0                     0   \n",
       "3                     0                 0                     0   \n",
       "4                     0                 0                     0   \n",
       "..                  ...               ...                   ...   \n",
       "475                   0                 0                     0   \n",
       "476                   0                 0                     0   \n",
       "477                   0                 0                     0   \n",
       "478                   0                 0                     0   \n",
       "479                   0                 0                     0   \n",
       "\n",
       "     PlaceofBirth_venzuela  Topic_Arabic  Topic_Biology  Topic_Chemistry  \\\n",
       "0                        0             0              0                0   \n",
       "1                        0             0              0                0   \n",
       "2                        0             0              0                0   \n",
       "3                        0             0              0                0   \n",
       "4                        0             0              0                0   \n",
       "..                     ...           ...            ...              ...   \n",
       "475                      0             0              0                1   \n",
       "476                      0             0              0                0   \n",
       "477                      0             0              0                0   \n",
       "478                      0             0              0                0   \n",
       "479                      0             0              0                0   \n",
       "\n",
       "     Topic_English  Topic_French  Topic_Geology  Topic_History  Topic_IT  \\\n",
       "0                0             0              0              0         1   \n",
       "1                0             0              0              0         1   \n",
       "2                0             0              0              0         1   \n",
       "3                0             0              0              0         1   \n",
       "4                0             0              0              0         1   \n",
       "..             ...           ...            ...            ...       ...   \n",
       "475              0             0              0              0         0   \n",
       "476              0             0              1              0         0   \n",
       "477              0             0              1              0         0   \n",
       "478              0             0              0              1         0   \n",
       "479              0             0              0              1         0   \n",
       "\n",
       "     Topic_Math  Topic_Quran  Topic_Science  Topic_Spanish  Semester_F  \\\n",
       "0             0            0              0              0           1   \n",
       "1             0            0              0              0           1   \n",
       "2             0            0              0              0           1   \n",
       "3             0            0              0              0           1   \n",
       "4             0            0              0              0           1   \n",
       "..          ...          ...            ...            ...         ...   \n",
       "475           0            0              0              0           0   \n",
       "476           0            0              0              0           1   \n",
       "477           0            0              0              0           0   \n",
       "478           0            0              0              0           1   \n",
       "479           0            0              0              0           0   \n",
       "\n",
       "     Semester_S  Relation_Father  Relation_Mum  ParentAnsweringSurvey_No  \\\n",
       "0             0                1             0                         0   \n",
       "1             0                1             0                         0   \n",
       "2             0                1             0                         1   \n",
       "3             0                1             0                         1   \n",
       "4             0                1             0                         1   \n",
       "..          ...              ...           ...                       ...   \n",
       "475           1                1             0                         1   \n",
       "476           0                1             0                         1   \n",
       "477           1                1             0                         1   \n",
       "478           0                1             0                         1   \n",
       "479           1                1             0                         1   \n",
       "\n",
       "     ParentAnsweringSurvey_Yes  ParentschoolSatisfaction_Bad  \\\n",
       "0                            1                             0   \n",
       "1                            1                             0   \n",
       "2                            0                             1   \n",
       "3                            0                             1   \n",
       "4                            0                             1   \n",
       "..                         ...                           ...   \n",
       "475                          0                             1   \n",
       "476                          0                             1   \n",
       "477                          0                             1   \n",
       "478                          0                             1   \n",
       "479                          0                             1   \n",
       "\n",
       "     ParentschoolSatisfaction_Good  StudentAbsenceDays_Above-7  \\\n",
       "0                                1                           0   \n",
       "1                                1                           0   \n",
       "2                                0                           1   \n",
       "3                                0                           1   \n",
       "4                                0                           1   \n",
       "..                             ...                         ...   \n",
       "475                              0                           1   \n",
       "476                              0                           0   \n",
       "477                              0                           0   \n",
       "478                              0                           1   \n",
       "479                              0                           1   \n",
       "\n",
       "     StudentAbsenceDays_Under-7  \n",
       "0                             1  \n",
       "1                             1  \n",
       "2                             0  \n",
       "3                             0  \n",
       "4                             0  \n",
       "..                          ...  \n",
       "475                           0  \n",
       "476                           1  \n",
       "477                           1  \n",
       "478                           0  \n",
       "479                           0  \n",
       "\n",
       "[480 rows x 60 columns]"
      ]
     },
     "execution_count": 54,
     "metadata": {},
     "output_type": "execute_result"
    }
   ],
   "source": [
    "df3 = pd.get_dummies(df3, columns = ['Gender', 'NationalITy','PlaceofBirth','Topic','Semester','Relation','ParentAnsweringSurvey','ParentschoolSatisfaction','StudentAbsenceDays'])\n",
    "df3"
   ]
  },
  {
   "cell_type": "markdown",
   "id": "d59c80da",
   "metadata": {},
   "source": [
    "#### Splitting data to dependent(y) and independent(x) and feeding it to train_test_split:"
   ]
  },
  {
   "cell_type": "code",
   "execution_count": 55,
   "id": "211660c4",
   "metadata": {},
   "outputs": [],
   "source": [
    "x=df3.drop('Class',axis=1)\n",
    "y=df3.iloc[:,7]"
   ]
  },
  {
   "cell_type": "code",
   "execution_count": 56,
   "id": "22ceee54",
   "metadata": {},
   "outputs": [],
   "source": [
    "X_train,X_test,Y_train,Y_test = train_test_split(x,y,test_size=0.3,random_state=42)"
   ]
  },
  {
   "cell_type": "markdown",
   "id": "9f3f6385",
   "metadata": {},
   "source": [
    "#### NOTEEEEEEE:\n",
    "I'm giving random state here as everytime we run, we get different accuracy score without random state and I'm not able to properly write conclusions or insights without it."
   ]
  },
  {
   "cell_type": "markdown",
   "id": "96f3c3e7",
   "metadata": {},
   "source": [
    "We can give stratify=y in the train_test_split if we know the dataset is imbalanced, this will make the prevalence rate of test and train to be almost same."
   ]
  },
  {
   "cell_type": "code",
   "execution_count": 57,
   "id": "33b31c1a",
   "metadata": {},
   "outputs": [
    {
     "name": "stdout",
     "output_type": "stream",
     "text": [
      "Shape of X train: (336, 59)\n",
      "Shape of Y train: (336,)\n",
      "\n",
      "Shape of X test: (144, 59)\n",
      "Shape of Y test: (144,)\n"
     ]
    }
   ],
   "source": [
    "print(\"Shape of X train:\",X_train.shape)\n",
    "print(\"Shape of Y train:\",Y_train.shape)\n",
    "print(\"\\nShape of X test:\",X_test.shape)\n",
    "print(\"Shape of Y test:\",Y_test.shape)"
   ]
  },
  {
   "cell_type": "code",
   "execution_count": 58,
   "id": "56f0103d",
   "metadata": {},
   "outputs": [
    {
     "name": "stdout",
     "output_type": "stream",
     "text": [
      "For train data:\n",
      "0    0.425595\n",
      "1    0.330357\n",
      "2    0.244048\n",
      "Name: Class, dtype: float64\n",
      "\n",
      "For test data:\n",
      "0    0.472222\n",
      "2    0.312500\n",
      "1    0.215278\n",
      "Name: Class, dtype: float64\n"
     ]
    }
   ],
   "source": [
    "#prevalence rate for test and train data\n",
    "print(\"For train data:\")\n",
    "print(Y_train.value_counts(normalize=True))\n",
    "print(\"\\nFor test data:\")\n",
    "print(Y_test.value_counts(normalize=True))"
   ]
  },
  {
   "cell_type": "markdown",
   "id": "24f28564",
   "metadata": {},
   "source": [
    "The prevalence rate of test and train are varying by almost + or - 5%."
   ]
  },
  {
   "cell_type": "markdown",
   "id": "08ea9868",
   "metadata": {},
   "source": [
    "#### Fitting the model and predicting train and test values, and probability of train and test values:"
   ]
  },
  {
   "cell_type": "code",
   "execution_count": 59,
   "id": "deddc888",
   "metadata": {},
   "outputs": [
    {
     "data": {
      "text/plain": [
       "LogisticRegression(max_iter=5000)"
      ]
     },
     "execution_count": 59,
     "metadata": {},
     "output_type": "execute_result"
    }
   ],
   "source": [
    "lom=linear_model.LogisticRegression(max_iter=5000)\n",
    "lom.fit(X_train,Y_train)"
   ]
  },
  {
   "cell_type": "code",
   "execution_count": 60,
   "id": "9c5d812a",
   "metadata": {},
   "outputs": [],
   "source": [
    "train_pred=lom.predict(X_train)\n",
    "test_pred=lom.predict(X_test)"
   ]
  },
  {
   "cell_type": "code",
   "execution_count": 61,
   "id": "ece9bc06",
   "metadata": {},
   "outputs": [
    {
     "data": {
      "text/plain": [
       "array([[6.94459735e-01, 3.04928968e-01, 6.11296164e-04],\n",
       "       [2.08084067e-01, 4.94498859e-03, 7.86970944e-01],\n",
       "       [1.43052260e-01, 8.56910692e-01, 3.70479886e-05],\n",
       "       ...,\n",
       "       [9.19305113e-02, 3.66354499e-04, 9.07703134e-01],\n",
       "       [8.13937212e-01, 1.12721200e-01, 7.33415878e-02],\n",
       "       [5.76185411e-02, 7.57447550e-05, 9.42305714e-01]])"
      ]
     },
     "execution_count": 61,
     "metadata": {},
     "output_type": "execute_result"
    }
   ],
   "source": [
    "lom.predict_proba(X_train)"
   ]
  },
  {
   "cell_type": "code",
   "execution_count": 62,
   "id": "6870be70",
   "metadata": {},
   "outputs": [
    {
     "data": {
      "text/plain": [
       "array([[4.17428766e-01, 6.88319367e-03, 5.75688041e-01],\n",
       "       [4.57178163e-02, 1.60010260e-03, 9.52682081e-01],\n",
       "       [1.60661349e-01, 8.39153981e-01, 1.84669967e-04],\n",
       "       [5.86898266e-01, 4.12665453e-01, 4.36280550e-04],\n",
       "       [5.54658424e-01, 4.45318004e-01, 2.35717562e-05],\n",
       "       [9.08635953e-01, 1.51463435e-03, 8.98494124e-02],\n",
       "       [1.58950131e-01, 2.07883241e-04, 8.40841986e-01],\n",
       "       [1.37075536e-01, 1.05687512e-04, 8.62818776e-01],\n",
       "       [9.32409161e-01, 5.68969758e-02, 1.06938631e-02],\n",
       "       [9.29226548e-01, 5.50779564e-02, 1.56954952e-02],\n",
       "       [4.36612865e-01, 5.62717886e-01, 6.69248755e-04],\n",
       "       [2.78293574e-01, 7.21221265e-01, 4.85160894e-04],\n",
       "       [7.91005723e-01, 2.08486048e-01, 5.08229457e-04],\n",
       "       [1.94229108e-01, 1.80877918e-04, 8.05590014e-01],\n",
       "       [4.10971379e-01, 5.84878160e-01, 4.15046138e-03],\n",
       "       [7.93023353e-01, 2.06675066e-01, 3.01580828e-04],\n",
       "       [8.91140373e-02, 8.84692808e-04, 9.10001270e-01],\n",
       "       [9.21669634e-01, 6.22496564e-02, 1.60807095e-02],\n",
       "       [2.15136237e-02, 7.52304405e-05, 9.78411146e-01],\n",
       "       [7.26183934e-01, 2.15939163e-01, 5.78769029e-02],\n",
       "       [7.17693362e-02, 9.28219385e-01, 1.12789271e-05],\n",
       "       [4.91689004e-02, 9.50638738e-01, 1.92361341e-04],\n",
       "       [4.26756414e-01, 4.53390716e-04, 5.72790195e-01],\n",
       "       [9.38928166e-01, 4.61836800e-02, 1.48881536e-02],\n",
       "       [1.20144310e-01, 2.84762508e-04, 8.79570927e-01],\n",
       "       [3.22540341e-03, 2.09023838e-06, 9.96772506e-01],\n",
       "       [9.47089708e-02, 9.05273153e-01, 1.78763067e-05],\n",
       "       [7.77210830e-01, 1.63095538e-01, 5.96936317e-02],\n",
       "       [1.32443126e-01, 1.15541274e-04, 8.67441333e-01],\n",
       "       [7.13987437e-01, 4.42435483e-02, 2.41769015e-01],\n",
       "       [4.09196782e-01, 5.86318268e-01, 4.48495024e-03],\n",
       "       [6.43847084e-01, 7.25192494e-02, 2.83633667e-01],\n",
       "       [1.50124859e-01, 6.83454785e-04, 8.49191687e-01],\n",
       "       [7.70537327e-01, 2.25616166e-01, 3.84650652e-03],\n",
       "       [7.68196833e-01, 9.36592712e-02, 1.38143896e-01],\n",
       "       [7.01758970e-01, 2.65483828e-01, 3.27572020e-02],\n",
       "       [6.29969648e-01, 8.64619562e-02, 2.83568395e-01],\n",
       "       [8.19416021e-01, 2.50451496e-02, 1.55538829e-01],\n",
       "       [9.12910463e-01, 8.69103501e-02, 1.79187214e-04],\n",
       "       [3.38754825e-01, 6.59506079e-01, 1.73909593e-03],\n",
       "       [6.05741408e-01, 3.72871353e-01, 2.13872394e-02],\n",
       "       [4.53093849e-01, 5.46627090e-01, 2.79060471e-04],\n",
       "       [1.89031636e-01, 7.23600407e-04, 8.10244764e-01],\n",
       "       [8.49787239e-01, 1.48328392e-01, 1.88436899e-03],\n",
       "       [6.01956712e-02, 9.39787439e-01, 1.68902785e-05],\n",
       "       [1.38654732e-01, 4.67662219e-05, 8.61298501e-01],\n",
       "       [2.27173220e-01, 7.72390293e-01, 4.36487243e-04],\n",
       "       [9.32169227e-01, 6.71317954e-02, 6.98977890e-04],\n",
       "       [6.19209515e-01, 3.80468807e-01, 3.21678554e-04],\n",
       "       [7.52976444e-01, 5.39191005e-03, 2.41631646e-01],\n",
       "       [4.51192549e-01, 5.40628705e-01, 8.17874570e-03],\n",
       "       [6.40207785e-01, 3.42827984e-01, 1.69642303e-02],\n",
       "       [6.11145862e-02, 1.92918914e-03, 9.36956225e-01],\n",
       "       [7.96143548e-01, 1.15543956e-01, 8.83124963e-02],\n",
       "       [7.25133163e-01, 2.62630346e-01, 1.22364912e-02],\n",
       "       [7.10502827e-01, 8.99262596e-03, 2.80504547e-01],\n",
       "       [1.62408175e-01, 7.62836579e-04, 8.36828989e-01],\n",
       "       [7.90955892e-02, 9.20862322e-01, 4.20889458e-05],\n",
       "       [9.51486925e-01, 3.37235674e-02, 1.47895077e-02],\n",
       "       [1.04492391e-01, 2.22826168e-04, 8.95284783e-01],\n",
       "       [9.43417873e-01, 5.15829740e-02, 4.99915251e-03],\n",
       "       [6.66401657e-02, 3.02533697e-04, 9.33057301e-01],\n",
       "       [9.53525403e-03, 2.67327940e-06, 9.90462073e-01],\n",
       "       [4.72241428e-01, 5.20672621e-01, 7.08595111e-03],\n",
       "       [7.90678779e-01, 5.82085210e-02, 1.51112700e-01],\n",
       "       [7.96644946e-01, 1.67113059e-01, 3.62419950e-02],\n",
       "       [5.08318206e-02, 1.67721859e-05, 9.49151407e-01],\n",
       "       [6.41627523e-01, 3.57850085e-01, 5.22392322e-04],\n",
       "       [1.48095045e-01, 3.01135107e-03, 8.48893604e-01],\n",
       "       [2.63347767e-01, 7.34130273e-01, 2.52196031e-03],\n",
       "       [3.43845282e-01, 4.46458968e-04, 6.55708259e-01],\n",
       "       [4.00451897e-02, 9.59935494e-01, 1.93162058e-05],\n",
       "       [5.85417135e-01, 4.23090353e-02, 3.72273830e-01],\n",
       "       [8.78033213e-01, 1.01417845e-01, 2.05489418e-02],\n",
       "       [9.17356068e-01, 4.02480041e-03, 7.86191320e-02],\n",
       "       [4.62709978e-01, 8.61927583e-05, 5.37203830e-01],\n",
       "       [9.49129057e-01, 1.34511550e-02, 3.74197879e-02],\n",
       "       [3.94948348e-03, 2.44077809e-06, 9.96048076e-01],\n",
       "       [7.49922578e-02, 2.91496239e-04, 9.24716246e-01],\n",
       "       [2.68343410e-01, 7.28526237e-01, 3.13035339e-03],\n",
       "       [8.40321579e-02, 9.15016814e-01, 9.51027851e-04],\n",
       "       [7.90926407e-01, 1.99873289e-01, 9.20030366e-03],\n",
       "       [4.28476942e-01, 2.37865334e-04, 5.71285193e-01],\n",
       "       [4.82616976e-02, 9.51476967e-01, 2.61335092e-04],\n",
       "       [3.80882875e-01, 6.17300577e-01, 1.81654774e-03],\n",
       "       [5.14995598e-01, 1.07868657e-03, 4.83925716e-01],\n",
       "       [7.48939414e-01, 2.16931858e-01, 3.41287281e-02],\n",
       "       [2.13230771e-01, 4.97673261e-04, 7.86271556e-01],\n",
       "       [9.81746107e-02, 3.65714595e-04, 9.01459675e-01],\n",
       "       [6.55734645e-01, 1.07438598e-02, 3.33521496e-01],\n",
       "       [7.46789862e-01, 2.52672932e-01, 5.37206466e-04],\n",
       "       [8.74124278e-01, 1.20300938e-01, 5.57478389e-03],\n",
       "       [9.42031485e-01, 3.98911904e-02, 1.80773242e-02],\n",
       "       [7.42759716e-01, 1.23940554e-01, 1.33299730e-01],\n",
       "       [2.74796348e-01, 3.67110103e-04, 7.24836541e-01],\n",
       "       [3.50140954e-01, 6.49835847e-01, 2.31988535e-05],\n",
       "       [3.16351081e-02, 1.17661803e-05, 9.68353126e-01],\n",
       "       [6.83228323e-01, 2.99053781e-01, 1.77178962e-02],\n",
       "       [9.48922074e-01, 5.10424394e-02, 3.54867281e-05],\n",
       "       [2.36674215e-01, 1.73227292e-04, 7.63152557e-01],\n",
       "       [7.26968809e-01, 1.72627848e-02, 2.55768406e-01],\n",
       "       [8.05986181e-03, 3.12166531e-05, 9.91908922e-01],\n",
       "       [7.87659490e-02, 7.85875177e-04, 9.20448176e-01],\n",
       "       [4.39686082e-01, 5.58078767e-01, 2.23515085e-03],\n",
       "       [8.53632691e-01, 1.14296736e-01, 3.20705736e-02],\n",
       "       [9.98127697e-02, 9.00036514e-01, 1.50716138e-04],\n",
       "       [3.25144777e-01, 6.74729750e-01, 1.25473011e-04],\n",
       "       [4.81286893e-01, 6.03462514e-03, 5.12678482e-01],\n",
       "       [9.08683181e-01, 7.14786465e-02, 1.98381728e-02],\n",
       "       [1.14714553e-02, 2.79004277e-05, 9.88500644e-01],\n",
       "       [9.57360997e-01, 3.73335910e-02, 5.30541203e-03],\n",
       "       [5.22527313e-01, 4.64225442e-03, 4.72830432e-01],\n",
       "       [8.40730258e-01, 1.56687029e-01, 2.58271215e-03],\n",
       "       [9.74298280e-02, 9.00628035e-01, 1.94213668e-03],\n",
       "       [9.10727734e-01, 8.91463072e-02, 1.25959042e-04],\n",
       "       [4.47800560e-02, 2.37936710e-04, 9.54982007e-01],\n",
       "       [4.00510425e-01, 5.83508940e-01, 1.59806355e-02],\n",
       "       [6.64175755e-01, 3.59264194e-03, 3.32231604e-01],\n",
       "       [6.66932398e-01, 3.31799769e-01, 1.26783284e-03],\n",
       "       [8.59623030e-02, 1.26851716e-04, 9.13910845e-01],\n",
       "       [2.57820019e-01, 1.82543693e-03, 7.40354545e-01],\n",
       "       [7.06960116e-02, 1.11622296e-04, 9.29192366e-01],\n",
       "       [4.62562443e-01, 5.35354406e-01, 2.08315086e-03],\n",
       "       [4.02260347e-01, 5.97440027e-01, 2.99626124e-04],\n",
       "       [2.95050706e-01, 2.67359678e-04, 7.04681934e-01],\n",
       "       [9.34871644e-01, 1.89375480e-02, 4.61908084e-02],\n",
       "       [5.20069651e-01, 1.26729170e-02, 4.67257432e-01],\n",
       "       [3.14468660e-01, 1.66950139e-04, 6.85364390e-01],\n",
       "       [9.39216537e-01, 5.99215293e-03, 5.47913099e-02],\n",
       "       [7.09369216e-01, 2.89679681e-01, 9.51102941e-04],\n",
       "       [9.32552370e-01, 1.52204247e-02, 5.22272056e-02],\n",
       "       [1.09227944e-01, 4.53075973e-04, 8.90318980e-01],\n",
       "       [4.61761136e-01, 9.99106963e-04, 5.37239757e-01],\n",
       "       [1.89284670e-02, 5.08408469e-06, 9.81066449e-01],\n",
       "       [3.26521687e-02, 1.21275063e-05, 9.67335704e-01],\n",
       "       [4.54310168e-01, 6.28289180e-03, 5.39406940e-01],\n",
       "       [5.00783926e-01, 4.94694751e-03, 4.94269126e-01],\n",
       "       [6.07371131e-01, 1.66912327e-02, 3.75937636e-01],\n",
       "       [5.38043575e-01, 4.42091645e-01, 1.98647798e-02],\n",
       "       [5.56372825e-02, 1.25903213e-04, 9.44236814e-01],\n",
       "       [2.22454619e-01, 2.66440846e-04, 7.77278940e-01],\n",
       "       [6.16698337e-01, 2.95457854e-01, 8.78438092e-02],\n",
       "       [7.25004313e-01, 8.91450628e-03, 2.66081181e-01],\n",
       "       [8.87763046e-02, 1.40704180e-04, 9.11082991e-01]])"
      ]
     },
     "execution_count": 62,
     "metadata": {},
     "output_type": "execute_result"
    }
   ],
   "source": [
    "lom.predict_proba(X_test)"
   ]
  },
  {
   "cell_type": "code",
   "execution_count": 63,
   "id": "4e86de1d",
   "metadata": {},
   "outputs": [
    {
     "data": {
      "text/plain": [
       "array([0, 2, 1, 1, 0, 0, 1, 1, 0, 0, 0, 2, 0, 0, 0, 0, 2, 1, 0, 2, 0, 1,\n",
       "       0, 0, 0, 2, 2, 1, 1, 0, 1, 0, 0, 2, 0, 2, 1, 1, 0, 1, 1, 2, 1, 1,\n",
       "       1, 1, 2, 1, 1, 2, 0, 1, 0, 0, 0, 0, 0, 0, 1, 0, 2, 1, 1, 2, 0, 1,\n",
       "       1, 0, 0, 0, 2, 2, 0, 0, 2, 1, 0, 0, 2, 0, 1, 0, 2, 2, 2, 1, 1, 1,\n",
       "       2, 2, 1, 1, 0, 0, 2, 1, 0, 0, 0, 2, 1, 1, 0, 0, 1, 1, 0, 1, 1, 1,\n",
       "       1, 0, 0, 1, 0, 0, 0, 1, 0, 1, 0, 1, 2, 1, 2, 2, 1, 0, 0, 0, 1, 0,\n",
       "       1, 2, 1, 0, 2, 1, 0, 2, 0, 1, 1, 1, 0, 0, 0, 2, 0, 1, 1, 1, 0, 2,\n",
       "       0, 1, 1, 2, 0, 2, 0, 1, 0, 0, 1, 2, 1, 0, 0, 2, 1, 2, 2, 1, 1, 2,\n",
       "       2, 0, 0, 0, 1, 1, 0, 1, 2, 1, 2, 1, 1, 0, 2, 0, 1, 1, 0, 2, 1, 0,\n",
       "       0, 2, 1, 2, 0, 0, 1, 2, 0, 1, 2, 0, 2, 1, 2, 2, 0, 0, 2, 1, 1, 0,\n",
       "       1, 1, 1, 0, 1, 0, 2, 0, 2, 2, 0, 0, 2, 0, 1, 0, 0, 1, 0, 0, 2, 0,\n",
       "       1, 0, 1, 0, 2, 1, 0, 2, 0, 1, 0, 0, 0, 2, 0, 2, 2, 1, 2, 0, 1, 0,\n",
       "       0, 2, 1, 2, 0, 0, 0, 0, 0, 0, 0, 1, 0, 2, 1, 0, 1, 0, 0, 1, 0, 1,\n",
       "       1, 0, 1, 2, 2, 0, 2, 0, 0, 0, 1, 0, 0, 1, 0, 2, 0, 0, 1, 1, 0, 0,\n",
       "       2, 1, 1, 0, 0, 1, 0, 1, 2, 0, 1, 2, 2, 0, 1, 0, 2, 1, 2, 2, 0, 1,\n",
       "       0, 0, 1, 2, 0, 2], dtype=int64)"
      ]
     },
     "execution_count": 63,
     "metadata": {},
     "output_type": "execute_result"
    }
   ],
   "source": [
    "pred_proba_train=np.argmax(lom.predict_proba(X_train),axis=1)\n",
    "pred_proba_train"
   ]
  },
  {
   "cell_type": "code",
   "execution_count": 64,
   "id": "f383b004",
   "metadata": {},
   "outputs": [
    {
     "data": {
      "text/plain": [
       "array([0, 2, 1, 1, 0, 0, 1, 1, 0, 0, 0, 2, 0, 0, 0, 0, 2, 1, 0, 2, 0, 1,\n",
       "       0, 0, 0, 2, 2, 1, 1, 0, 1, 0, 0, 2, 0, 2, 1, 1, 0, 1, 1, 2, 1, 1,\n",
       "       1, 1, 2, 1, 1, 2, 0, 1, 0, 0, 0, 0, 0, 0, 1, 0, 2, 1, 1, 2, 0, 1,\n",
       "       1, 0, 0, 0, 2, 2, 0, 0, 2, 1, 0, 0, 2, 0, 1, 0, 2, 2, 2, 1, 1, 1,\n",
       "       2, 2, 1, 1, 0, 0, 2, 1, 0, 0, 0, 2, 1, 1, 0, 0, 1, 1, 0, 1, 1, 1,\n",
       "       1, 0, 0, 1, 0, 0, 0, 1, 0, 1, 0, 1, 2, 1, 2, 2, 1, 0, 0, 0, 1, 0,\n",
       "       1, 2, 1, 0, 2, 1, 0, 2, 0, 1, 1, 1, 0, 0, 0, 2, 0, 1, 1, 1, 0, 2,\n",
       "       0, 1, 1, 2, 0, 2, 0, 1, 0, 0, 1, 2, 1, 0, 0, 2, 1, 2, 2, 1, 1, 2,\n",
       "       2, 0, 0, 0, 1, 1, 0, 1, 2, 1, 2, 1, 1, 0, 2, 0, 1, 1, 0, 2, 1, 0,\n",
       "       0, 2, 1, 2, 0, 0, 1, 2, 0, 1, 2, 0, 2, 1, 2, 2, 0, 0, 2, 1, 1, 0,\n",
       "       1, 1, 1, 0, 1, 0, 2, 0, 2, 2, 0, 0, 2, 0, 1, 0, 0, 1, 0, 0, 2, 0,\n",
       "       1, 0, 1, 0, 2, 1, 0, 2, 0, 1, 0, 0, 0, 2, 0, 2, 2, 1, 2, 0, 1, 0,\n",
       "       0, 2, 1, 2, 0, 0, 0, 0, 0, 0, 0, 1, 0, 2, 1, 0, 1, 0, 0, 1, 0, 1,\n",
       "       1, 0, 1, 2, 2, 0, 2, 0, 0, 0, 1, 0, 0, 1, 0, 2, 0, 0, 1, 1, 0, 0,\n",
       "       2, 1, 1, 0, 0, 1, 0, 1, 2, 0, 1, 2, 2, 0, 1, 0, 2, 1, 2, 2, 0, 1,\n",
       "       0, 0, 1, 2, 0, 2], dtype=int64)"
      ]
     },
     "execution_count": 64,
     "metadata": {},
     "output_type": "execute_result"
    }
   ],
   "source": [
    "train_pred"
   ]
  },
  {
   "cell_type": "code",
   "execution_count": 65,
   "id": "9cd45c49",
   "metadata": {},
   "outputs": [
    {
     "data": {
      "text/plain": [
       "array([2, 2, 1, 0, 0, 0, 2, 2, 0, 0, 1, 1, 0, 2, 1, 0, 2, 0, 2, 0, 1, 1,\n",
       "       2, 0, 2, 2, 1, 0, 2, 0, 1, 0, 2, 0, 0, 0, 0, 0, 0, 1, 0, 1, 2, 0,\n",
       "       1, 2, 1, 0, 0, 0, 1, 0, 2, 0, 0, 0, 2, 1, 0, 2, 0, 2, 2, 1, 0, 0,\n",
       "       2, 0, 2, 1, 2, 1, 0, 0, 0, 2, 0, 2, 2, 1, 1, 0, 2, 1, 1, 0, 0, 2,\n",
       "       2, 0, 0, 0, 0, 0, 2, 1, 2, 0, 0, 2, 0, 2, 2, 1, 0, 1, 1, 2, 0, 2,\n",
       "       0, 0, 0, 1, 0, 2, 1, 0, 0, 2, 2, 2, 1, 1, 2, 0, 0, 2, 0, 0, 0, 2,\n",
       "       2, 2, 2, 2, 0, 0, 0, 2, 2, 0, 0, 2], dtype=int64)"
      ]
     },
     "execution_count": 65,
     "metadata": {},
     "output_type": "execute_result"
    }
   ],
   "source": [
    "pred_proba_test=np.argmax(lom.predict_proba(X_test),axis=1)\n",
    "pred_proba_test"
   ]
  },
  {
   "cell_type": "code",
   "execution_count": 66,
   "id": "a2525d85",
   "metadata": {},
   "outputs": [
    {
     "data": {
      "text/plain": [
       "array([2, 2, 1, 0, 0, 0, 2, 2, 0, 0, 1, 1, 0, 2, 1, 0, 2, 0, 2, 0, 1, 1,\n",
       "       2, 0, 2, 2, 1, 0, 2, 0, 1, 0, 2, 0, 0, 0, 0, 0, 0, 1, 0, 1, 2, 0,\n",
       "       1, 2, 1, 0, 0, 0, 1, 0, 2, 0, 0, 0, 2, 1, 0, 2, 0, 2, 2, 1, 0, 0,\n",
       "       2, 0, 2, 1, 2, 1, 0, 0, 0, 2, 0, 2, 2, 1, 1, 0, 2, 1, 1, 0, 0, 2,\n",
       "       2, 0, 0, 0, 0, 0, 2, 1, 2, 0, 0, 2, 0, 2, 2, 1, 0, 1, 1, 2, 0, 2,\n",
       "       0, 0, 0, 1, 0, 2, 1, 0, 0, 2, 2, 2, 1, 1, 2, 0, 0, 2, 0, 0, 0, 2,\n",
       "       2, 2, 2, 2, 0, 0, 0, 2, 2, 0, 0, 2], dtype=int64)"
      ]
     },
     "execution_count": 66,
     "metadata": {},
     "output_type": "execute_result"
    }
   ],
   "source": [
    "test_pred"
   ]
  },
  {
   "cell_type": "markdown",
   "id": "5c71a855",
   "metadata": {},
   "source": [
    "#### Accuracy Score of test and train data:"
   ]
  },
  {
   "cell_type": "code",
   "execution_count": 67,
   "id": "8d789697",
   "metadata": {},
   "outputs": [
    {
     "name": "stdout",
     "output_type": "stream",
     "text": [
      "Training accuracy: 0.8303571428571429\n",
      "Testing accuracy: 0.7638888888888888\n"
     ]
    }
   ],
   "source": [
    "print(\"Training accuracy:\",accuracy_score(Y_train,train_pred))\n",
    "print(\"Testing accuracy:\",accuracy_score(Y_test,test_pred))"
   ]
  },
  {
   "cell_type": "markdown",
   "id": "bb1c7b3d",
   "metadata": {},
   "source": [
    "Difference between the above 2 should not cross + or - 5%, hence we can conclude model is overfitted if training accuracy is more than testing accuracy and underfitted if training accuracy is less than testing accuracy.\n",
    "\n",
    "The training accuracy of 83% is more than testing accuracy of 76%, which implies model is overfitting."
   ]
  },
  {
   "cell_type": "markdown",
   "id": "495aa664",
   "metadata": {},
   "source": [
    "#### Confusion matrix of test and train data:"
   ]
  },
  {
   "cell_type": "code",
   "execution_count": 68,
   "id": "51e75807",
   "metadata": {},
   "outputs": [
    {
     "name": "stdout",
     "output_type": "stream",
     "text": [
      "Confustion matrix of train data:\n",
      " [[115  22   6]\n",
      " [ 20  91   0]\n",
      " [  9   0  73]]\n",
      "\n",
      "Confustion matrix of test data:\n",
      " [[50  9  9]\n",
      " [11 20  0]\n",
      " [ 5  0 40]]\n"
     ]
    }
   ],
   "source": [
    "print(\"Confustion matrix of train data:\\n\",confusion_matrix(Y_train,train_pred))\n",
    "print(\"\\nConfustion matrix of test data:\\n\",confusion_matrix(Y_test,test_pred))"
   ]
  },
  {
   "cell_type": "markdown",
   "id": "28e5b2a2",
   "metadata": {},
   "source": [
    "In the confusion matrix we will get TP,TN,FP and FN. we can tune the training data to lessen the FP and FN. Nothing should be done test data. "
   ]
  },
  {
   "cell_type": "markdown",
   "id": "4c2ef877",
   "metadata": {},
   "source": [
    "#### Classification Report of test and train data:"
   ]
  },
  {
   "cell_type": "code",
   "execution_count": 69,
   "id": "819802be",
   "metadata": {},
   "outputs": [
    {
     "name": "stdout",
     "output_type": "stream",
     "text": [
      "Classification Report of train data:\n",
      "\n",
      "               precision    recall  f1-score   support\n",
      "\n",
      "           0       0.80      0.80      0.80       143\n",
      "           1       0.81      0.82      0.81       111\n",
      "           2       0.92      0.89      0.91        82\n",
      "\n",
      "    accuracy                           0.83       336\n",
      "   macro avg       0.84      0.84      0.84       336\n",
      "weighted avg       0.83      0.83      0.83       336\n",
      "\n",
      "---------------------------------------------------------------------------\n",
      "Classification Report of test data:\n",
      "\n",
      "               precision    recall  f1-score   support\n",
      "\n",
      "           0       0.76      0.74      0.75        68\n",
      "           1       0.69      0.65      0.67        31\n",
      "           2       0.82      0.89      0.85        45\n",
      "\n",
      "    accuracy                           0.76       144\n",
      "   macro avg       0.75      0.76      0.75       144\n",
      "weighted avg       0.76      0.76      0.76       144\n",
      "\n"
     ]
    }
   ],
   "source": [
    "print(\"Classification Report of train data:\\n\\n\",classification_report(Y_train,train_pred))\n",
    "print('-'*75)\n",
    "print(\"Classification Report of test data:\\n\\n\",classification_report(Y_test,test_pred))"
   ]
  },
  {
   "cell_type": "markdown",
   "id": "60d44053",
   "metadata": {},
   "source": [
    "We will all the metrics as summary in the report. \n",
    "The training accuracy of 83% is more than testing accuracy of 76%, which implies model is overfitting."
   ]
  },
  {
   "cell_type": "markdown",
   "id": "0bf343fe",
   "metadata": {},
   "source": [
    "#### Cross-Validation Score:"
   ]
  },
  {
   "cell_type": "code",
   "execution_count": 70,
   "id": "19f96c97",
   "metadata": {},
   "outputs": [
    {
     "name": "stdout",
     "output_type": "stream",
     "text": [
      "Cross validation score: [0.75       0.79104478 0.76119403 0.73134328 0.74626866]\n"
     ]
    }
   ],
   "source": [
    "crossval=cross_val_score(lom,X_train,Y_train,cv=5)\n",
    "print(\"Cross validation score:\",crossval)"
   ]
  },
  {
   "cell_type": "code",
   "execution_count": 71,
   "id": "94fc3627",
   "metadata": {},
   "outputs": [
    {
     "data": {
      "image/png": "[encoded data removed]",
      "text/plain": [
       "<Figure size 432x288 with 1 Axes>"
      ]
     },
     "metadata": {
      "needs_background": "light"
     },
     "output_type": "display_data"
    }
   ],
   "source": [
    "sns.boxplot(x=crossval,data=df1)\n",
    "plt.show()"
   ]
  },
  {
   "cell_type": "markdown",
   "id": "1d305729",
   "metadata": {},
   "source": [
    "There is an outlier in the cross validation with 79%. "
   ]
  },
  {
   "cell_type": "code",
   "execution_count": null,
   "id": "419ad9a6",
   "metadata": {},
   "outputs": [],
   "source": []
  }
 ],
 "metadata": {
  "kernelspec": {
   "display_name": "Python 3",
   "language": "python",
   "name": "python3"
  },
  "language_info": {
   "codemirror_mode": {
    "name": "ipython",
    "version": 3
   },
   "file_extension": ".py",
   "mimetype": "text/x-python",
   "name": "python",
   "nbconvert_exporter": "python",
   "pygments_lexer": "ipython3",
   "version": "3.8.8"
  }
 },
 "nbformat": 4,
 "nbformat_minor": 5
}
